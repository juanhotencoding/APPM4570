{
 "cells": [
  {
   "cell_type": "markdown",
   "metadata": {},
   "source": [
    "# Homework #2 \n",
    "\n",
    "All computations should be done in this notebook using the R kernel. This is your first opportunity to get familiar with R outside of class, so please take your time on the problems that require it. Working in small groups is allowed, but it is important that you make an effort to master the material and hand in your own work.\n",
    "\n",
    "#### You will be required to submit this notebook, fully compiled with your solutions, as an Jupyter Notebook and as an HTML file to Canvas by 5pm on Wednesday, February 6.\n",
    "\n",
    "#### Read and sign the Honor Code Pledge below:\n",
    "\n",
    "**Honor Code Pledge: _On my honor, as a University of Colorado Boulder student, I have neither given nor received unauthorized assistance on this work._**\n"
   ]
  },
  {
   "cell_type": "markdown",
   "metadata": {},
   "source": [
    "### _Juan Vargas-Murillo_"
   ]
  },
  {
   "cell_type": "markdown",
   "metadata": {},
   "source": [
    "## Computational Problems"
   ]
  },
  {
   "cell_type": "markdown",
   "metadata": {},
   "source": [
    "\n",
    "## Problem 1\n",
    "\n",
    "Some claim that the final hours aboard the Titanic were marked by class warfare; other claim it was characterized by male chivalry.  Load the titanic data frame into R. This dataset contains information pertaining to class status ${\\tt pclass}$, survival of passengers ${\\tt survived}$, and gender ${\\tt sex}$, among others.  \n",
    "\n",
    "You can learn more about the data here: https://cran.r-project.org/web/packages/PASWR2/PASWR2.pdf\n",
    "\n",
    "\n"
   ]
  },
  {
   "cell_type": "markdown",
   "metadata": {},
   "source": [
    "#### (a) First load the data. Load either the file ${\\tt titanic3.csv}$ or ${\\tt titanic3.txt}$ which can be found in the HW02 folder on Canvas. (Download the file to your computer first.)"
   ]
  },
  {
   "cell_type": "code",
   "execution_count": 1,
   "metadata": {},
   "outputs": [
    {
     "data": {
      "text/plain": [
       "     pclass         survived                                name     \n",
       " Min.   :1.000   Min.   :0.000   Connolly, Miss. Kate         :   2  \n",
       " 1st Qu.:2.000   1st Qu.:0.000   Kelly, Mr. James             :   2  \n",
       " Median :3.000   Median :0.000                                :   1  \n",
       " Mean   :2.295   Mean   :0.382   Abbing, Mr. Anthony          :   1  \n",
       " 3rd Qu.:3.000   3rd Qu.:1.000   Abbott, Master. Eugene Joseph:   1  \n",
       " Max.   :3.000   Max.   :1.000   Abbott, Mr. Rossmore Edward  :   1  \n",
       " NA's   :1       NA's   :1       (Other)                      :1302  \n",
       "     sex           age              sibsp            parch      \n",
       "       :  1   Min.   : 0.1667   Min.   :0.0000   Min.   :0.000  \n",
       " female:466   1st Qu.:21.0000   1st Qu.:0.0000   1st Qu.:0.000  \n",
       " male  :843   Median :28.0000   Median :0.0000   Median :0.000  \n",
       "              Mean   :29.8811   Mean   :0.4989   Mean   :0.385  \n",
       "              3rd Qu.:39.0000   3rd Qu.:1.0000   3rd Qu.:0.000  \n",
       "              Max.   :80.0000   Max.   :8.0000   Max.   :9.000  \n",
       "              NA's   :264       NA's   :1        NA's   :1      \n",
       "      ticket          fare                     cabin      embarked\n",
       " CA. 2343:  11   Min.   :  0.000                  :1015    :  3   \n",
       " 1601    :   8   1st Qu.:  7.896   C23 C25 C27    :   6   C:270   \n",
       " CA 2144 :   8   Median : 14.454   B57 B59 B63 B66:   5   Q:123   \n",
       " 3101295 :   7   Mean   : 33.295   G6             :   5   S:914   \n",
       " 347077  :   7   3rd Qu.: 31.275   B96 B98        :   4           \n",
       " 347082  :   7   Max.   :512.329   C22 C26        :   4           \n",
       " (Other) :1262   NA's   :2         (Other)        : 271           \n",
       "      boat          body                      home.dest  \n",
       "        :824   Min.   :  1.0                       :565  \n",
       " 13     : 39   1st Qu.: 72.0   New York, NY        : 64  \n",
       " C      : 38   Median :155.0   London              : 14  \n",
       " 15     : 37   Mean   :160.8   Montreal, PQ        : 10  \n",
       " 14     : 33   3rd Qu.:256.0   Cornwall / Akron, OH:  9  \n",
       " 4      : 31   Max.   :328.0   Paris, France       :  9  \n",
       " (Other):308   NA's   :1189    (Other)             :639  "
      ]
     },
     "metadata": {},
     "output_type": "display_data"
    },
    {
     "data": {
      "text/html": [
       "<table>\n",
       "<thead><tr><th scope=col>pclass</th><th scope=col>survived</th><th scope=col>name</th><th scope=col>sex</th><th scope=col>age</th><th scope=col>sibsp</th><th scope=col>parch</th><th scope=col>ticket</th><th scope=col>fare</th><th scope=col>cabin</th><th scope=col>embarked</th><th scope=col>boat</th><th scope=col>body</th><th scope=col>home.dest</th></tr></thead>\n",
       "<tbody>\n",
       "\t<tr><td>1                                              </td><td>1                                              </td><td>Allen, Miss. Elisabeth Walton                  </td><td>female                                         </td><td>29.0000                                        </td><td>0                                              </td><td>0                                              </td><td>24160                                          </td><td>211.3375                                       </td><td>B5                                             </td><td>S                                              </td><td>2                                              </td><td> NA                                            </td><td>St Louis, MO                                   </td></tr>\n",
       "\t<tr><td>1                                              </td><td>1                                              </td><td>Allison, Master. Hudson Trevor                 </td><td>male                                           </td><td> 0.9167                                        </td><td>1                                              </td><td>2                                              </td><td>113781                                         </td><td>151.5500                                       </td><td>C22 C26                                        </td><td>S                                              </td><td>11                                             </td><td> NA                                            </td><td>Montreal, PQ / Chesterville, ON                </td></tr>\n",
       "\t<tr><td>1                                              </td><td>0                                              </td><td>Allison, Miss. Helen Loraine                   </td><td>female                                         </td><td> 2.0000                                        </td><td>1                                              </td><td>2                                              </td><td>113781                                         </td><td>151.5500                                       </td><td>C22 C26                                        </td><td>S                                              </td><td>                                               </td><td> NA                                            </td><td>Montreal, PQ / Chesterville, ON                </td></tr>\n",
       "\t<tr><td>1                                              </td><td>0                                              </td><td>Allison, Mr. Hudson Joshua Creighton           </td><td>male                                           </td><td>30.0000                                        </td><td>1                                              </td><td>2                                              </td><td>113781                                         </td><td>151.5500                                       </td><td>C22 C26                                        </td><td>S                                              </td><td>                                               </td><td>135                                            </td><td>Montreal, PQ / Chesterville, ON                </td></tr>\n",
       "\t<tr><td>1                                              </td><td>0                                              </td><td>Allison, Mrs. Hudson J C (Bessie Waldo Daniels)</td><td>female                                         </td><td>25.0000                                        </td><td>1                                              </td><td>2                                              </td><td>113781                                         </td><td>151.5500                                       </td><td>C22 C26                                        </td><td>S                                              </td><td>                                               </td><td> NA                                            </td><td>Montreal, PQ / Chesterville, ON                </td></tr>\n",
       "\t<tr><td>1                                              </td><td>1                                              </td><td>Anderson, Mr. Harry                            </td><td>male                                           </td><td>48.0000                                        </td><td>0                                              </td><td>0                                              </td><td>19952                                          </td><td> 26.5500                                       </td><td>E12                                            </td><td>S                                              </td><td>3                                              </td><td> NA                                            </td><td>New York, NY                                   </td></tr>\n",
       "</tbody>\n",
       "</table>\n"
      ],
      "text/latex": [
       "\\begin{tabular}{r|llllllllllllll}\n",
       " pclass & survived & name & sex & age & sibsp & parch & ticket & fare & cabin & embarked & boat & body & home.dest\\\\\n",
       "\\hline\n",
       "\t 1                                               & 1                                               & Allen, Miss. Elisabeth Walton                   & female                                          & 29.0000                                         & 0                                               & 0                                               & 24160                                           & 211.3375                                        & B5                                              & S                                               & 2                                               &  NA                                             & St Louis, MO                                   \\\\\n",
       "\t 1                                               & 1                                               & Allison, Master. Hudson Trevor                  & male                                            &  0.9167                                         & 1                                               & 2                                               & 113781                                          & 151.5500                                        & C22 C26                                         & S                                               & 11                                              &  NA                                             & Montreal, PQ / Chesterville, ON                \\\\\n",
       "\t 1                                               & 0                                               & Allison, Miss. Helen Loraine                    & female                                          &  2.0000                                         & 1                                               & 2                                               & 113781                                          & 151.5500                                        & C22 C26                                         & S                                               &                                                 &  NA                                             & Montreal, PQ / Chesterville, ON                \\\\\n",
       "\t 1                                               & 0                                               & Allison, Mr. Hudson Joshua Creighton            & male                                            & 30.0000                                         & 1                                               & 2                                               & 113781                                          & 151.5500                                        & C22 C26                                         & S                                               &                                                 & 135                                             & Montreal, PQ / Chesterville, ON                \\\\\n",
       "\t 1                                               & 0                                               & Allison, Mrs. Hudson J C (Bessie Waldo Daniels) & female                                          & 25.0000                                         & 1                                               & 2                                               & 113781                                          & 151.5500                                        & C22 C26                                         & S                                               &                                                 &  NA                                             & Montreal, PQ / Chesterville, ON                \\\\\n",
       "\t 1                                               & 1                                               & Anderson, Mr. Harry                             & male                                            & 48.0000                                         & 0                                               & 0                                               & 19952                                           &  26.5500                                        & E12                                             & S                                               & 3                                               &  NA                                             & New York, NY                                   \\\\\n",
       "\\end{tabular}\n"
      ],
      "text/markdown": [
       "\n",
       "pclass | survived | name | sex | age | sibsp | parch | ticket | fare | cabin | embarked | boat | body | home.dest | \n",
       "|---|---|---|---|---|---|\n",
       "| 1                                               | 1                                               | Allen, Miss. Elisabeth Walton                   | female                                          | 29.0000                                         | 0                                               | 0                                               | 24160                                           | 211.3375                                        | B5                                              | S                                               | 2                                               |  NA                                             | St Louis, MO                                    | \n",
       "| 1                                               | 1                                               | Allison, Master. Hudson Trevor                  | male                                            |  0.9167                                         | 1                                               | 2                                               | 113781                                          | 151.5500                                        | C22 C26                                         | S                                               | 11                                              |  NA                                             | Montreal, PQ / Chesterville, ON                 | \n",
       "| 1                                               | 0                                               | Allison, Miss. Helen Loraine                    | female                                          |  2.0000                                         | 1                                               | 2                                               | 113781                                          | 151.5500                                        | C22 C26                                         | S                                               |                                                 |  NA                                             | Montreal, PQ / Chesterville, ON                 | \n",
       "| 1                                               | 0                                               | Allison, Mr. Hudson Joshua Creighton            | male                                            | 30.0000                                         | 1                                               | 2                                               | 113781                                          | 151.5500                                        | C22 C26                                         | S                                               |                                                 | 135                                             | Montreal, PQ / Chesterville, ON                 | \n",
       "| 1                                               | 0                                               | Allison, Mrs. Hudson J C (Bessie Waldo Daniels) | female                                          | 25.0000                                         | 1                                               | 2                                               | 113781                                          | 151.5500                                        | C22 C26                                         | S                                               |                                                 |  NA                                             | Montreal, PQ / Chesterville, ON                 | \n",
       "| 1                                               | 1                                               | Anderson, Mr. Harry                             | male                                            | 48.0000                                         | 0                                               | 0                                               | 19952                                           |  26.5500                                        | E12                                             | S                                               | 3                                               |  NA                                             | New York, NY                                    | \n",
       "\n",
       "\n"
      ],
      "text/plain": [
       "  pclass survived name                                            sex   \n",
       "1 1      1        Allen, Miss. Elisabeth Walton                   female\n",
       "2 1      1        Allison, Master. Hudson Trevor                  male  \n",
       "3 1      0        Allison, Miss. Helen Loraine                    female\n",
       "4 1      0        Allison, Mr. Hudson Joshua Creighton            male  \n",
       "5 1      0        Allison, Mrs. Hudson J C (Bessie Waldo Daniels) female\n",
       "6 1      1        Anderson, Mr. Harry                             male  \n",
       "  age     sibsp parch ticket fare     cabin   embarked boat body\n",
       "1 29.0000 0     0     24160  211.3375 B5      S        2     NA \n",
       "2  0.9167 1     2     113781 151.5500 C22 C26 S        11    NA \n",
       "3  2.0000 1     2     113781 151.5500 C22 C26 S              NA \n",
       "4 30.0000 1     2     113781 151.5500 C22 C26 S             135 \n",
       "5 25.0000 1     2     113781 151.5500 C22 C26 S              NA \n",
       "6 48.0000 0     0     19952   26.5500 E12     S        3     NA \n",
       "  home.dest                      \n",
       "1 St Louis, MO                   \n",
       "2 Montreal, PQ / Chesterville, ON\n",
       "3 Montreal, PQ / Chesterville, ON\n",
       "4 Montreal, PQ / Chesterville, ON\n",
       "5 Montreal, PQ / Chesterville, ON\n",
       "6 New York, NY                   "
      ]
     },
     "metadata": {},
     "output_type": "display_data"
    }
   ],
   "source": [
    "TITANIC3 <- read.csv(\"titanic3.csv\")\n",
    "summary(TITANIC3)\n",
    "head(TITANIC3)"
   ]
  },
  {
   "cell_type": "markdown",
   "metadata": {},
   "source": [
    "#### (b) Create a table cross listing the number of survivors and non-survivors by passenger class. Use the ${\\tt table()}$ command to do this. (The rows of the table should be the passenger class.)"
   ]
  },
  {
   "cell_type": "code",
   "execution_count": 2,
   "metadata": {},
   "outputs": [
    {
     "data": {
      "text/plain": [
       "     Survived\n",
       "Class   0   1\n",
       "    1 123 200\n",
       "    2 158 119\n",
       "    3 528 181"
      ]
     },
     "metadata": {},
     "output_type": "display_data"
    }
   ],
   "source": [
    "survivors.nonsurvivors <- table(Class = TITANIC3$pclass, Survived = TITANIC3$survived)\n",
    "\n",
    "survivors.nonsurvivors"
   ]
  },
  {
   "cell_type": "markdown",
   "metadata": {},
   "source": [
    "#### (c) Use the table to determine the fraction of survivors from each passenger class. The command ${\\tt rowSums()}$ may be useful."
   ]
  },
  {
   "cell_type": "code",
   "execution_count": 3,
   "metadata": {},
   "outputs": [
    {
     "data": {
      "text/plain": [
       "     Survived\n",
       "Class         0         1\n",
       "    1 0.3808050 0.6191950\n",
       "    2 0.5703971 0.4296029\n",
       "    3 0.7447109 0.2552891"
      ]
     },
     "metadata": {},
     "output_type": "display_data"
    }
   ],
   "source": [
    "total.survivors.perclass <- rowSums(survivors.nonsurvivors)\n",
    "frac.survivors.perclass <- survivors.nonsurvivors / total.survivors.perclass\n",
    "\n",
    "frac.survivors.perclass"
   ]
  },
  {
   "cell_type": "markdown",
   "metadata": {},
   "source": [
    "#### (d) Compute the fraction of male survivors who were in first class. Do this by determining the total number of men in first class and the total number of men in first who survived and find the ratio. (Logical indexing may be helpful here.)"
   ]
  },
  {
   "cell_type": "code",
   "execution_count": 26,
   "metadata": {},
   "outputs": [
    {
     "name": "stdout",
     "output_type": "stream",
     "text": [
      "The fraction of male survivors who were in first class was:  0.3407821"
     ]
    }
   ],
   "source": [
    "male.fc.survivors <- length(TITANIC3$pclass[TITANIC3$pclass == \"1\" & TITANIC3$sex == \"male\" & TITANIC3$survived == \"1\"]) / length(TITANIC3$pclass[TITANIC3$pclass == \"1\" & TITANIC3$sex == \"male\"])\n",
    "\n",
    "cat(\"The fraction of male survivors who were in first class was: \",male.fc.survivors)\n",
    "\n"
   ]
  },
  {
   "cell_type": "markdown",
   "metadata": {},
   "source": [
    "#### (e) Compute the fraction of survivors for the remaining classes and genders. Did men in the first class or women in the third class have a higher survival rate?"
   ]
  },
  {
   "cell_type": "code",
   "execution_count": 5,
   "metadata": {},
   "outputs": [
    {
     "name": "stdout",
     "output_type": "stream",
     "text": [
      "The survival rate of men in the first class was:  0.3407821 \n",
      "The survival rate of women in first class was:  0.9652778 \n",
      "\n",
      "The survival rate of men in the second class was:  0.1461988 \n",
      "The survival rate of women in second class was:  0.8867925 \n",
      "\n",
      "The survival rate of men in the third class was:  0.1521298 \n",
      "The survival rate of women in third class was:  0.4907407"
     ]
    }
   ],
   "source": [
    "male.sc.survivors <- length(TITANIC3$pclass[TITANIC3$pclass == \"2\" & TITANIC3$sex == \"male\" & TITANIC3$survived == \"1\"]) / length(TITANIC3$pclass[TITANIC3$pclass == \"2\" & TITANIC3$sex == \"male\"])\n",
    "\n",
    "male.tc.survivors <- length(TITANIC3$pclass[TITANIC3$pclass == \"3\" & TITANIC3$sex == \"male\" & TITANIC3$survived == \"1\"]) / length(TITANIC3$pclass[TITANIC3$pclass == \"3\" & TITANIC3$sex == \"male\"])\n",
    "\n",
    "female.fc.survivors <- length(TITANIC3$pclass[TITANIC3$pclass == \"1\" & TITANIC3$sex == \"female\" & TITANIC3$survived == \"1\"]) / length(TITANIC3$pclass[TITANIC3$pclass == \"1\" & TITANIC3$sex == \"female\"])\n",
    "\n",
    "female.sc.survivors <- length(TITANIC3$pclass[TITANIC3$pclass == \"2\" & TITANIC3$sex == \"female\" & TITANIC3$survived == \"1\"]) / length(TITANIC3$pclass[TITANIC3$pclass == \"2\" & TITANIC3$sex == \"female\"])\n",
    "\n",
    "female.tc.survivors <- length(TITANIC3$pclass[TITANIC3$pclass == \"3\" & TITANIC3$sex == \"female\" & TITANIC3$survived == \"1\"]) / length(TITANIC3$pclass[TITANIC3$pclass == \"3\" & TITANIC3$sex == \"female\"])\n",
    "\n",
    "cat(\"The survival rate of men in the first class was: \", male.fc.survivors, \"\\nThe survival rate of women in first class was: \", female.fc.survivors, \"\\n\")\n",
    "\n",
    "cat(\"\\nThe survival rate of men in the second class was: \", male.sc.survivors, \"\\nThe survival rate of women in second class was: \", female.sc.survivors, \"\\n\")\n",
    "\n",
    "cat(\"\\nThe survival rate of men in the third class was: \", male.tc.survivors, \"\\nThe survival rate of women in third class was: \", female.tc.survivors)"
   ]
  },
  {
   "cell_type": "markdown",
   "metadata": {},
   "source": [
    "#### (f) Display a frequency histogram of ${\\tt age}$. How would you characterize the distribution of ${\\tt age}$ (e.g., is it symmetric, positively/negatively skewed, unimodal, multimodal)?"
   ]
  },
  {
   "cell_type": "code",
   "execution_count": 6,
   "metadata": {},
   "outputs": [
    {
     "data": {
      "image/png": "[encoded data removed]",
      "text/plain": [
       "Plot with title “Distribution of ages on the Titanic”"
      ]
     },
     "metadata": {},
     "output_type": "display_data"
    }
   ],
   "source": [
    "hist(TITANIC3$age, xlab = \"Age\", main = \"Distribution of ages on the Titanic\")"
   ]
  },
  {
   "cell_type": "markdown",
   "metadata": {},
   "source": [
    "**ANSWER: The distribution of age is positively skewed and unimodal.**"
   ]
  },
  {
   "cell_type": "markdown",
   "metadata": {},
   "source": [
    "#### (g) Find the mean, median, st. dev. and range for females who survived and for for females who did not survive. Were the median and mean ages for females who survived higher or lower than for females who did not survive? Beware of missing data in your data set! See this link on [missing data](https://thomasleeper.com/Rcourse/Tutorials/NAhandling.html) for further information."
   ]
  },
  {
   "cell_type": "code",
   "execution_count": 25,
   "metadata": {},
   "outputs": [
    {
     "name": "stdout",
     "output_type": "stream",
     "text": [
      "SURVIVORS\n",
      "The mean age for females who survived was: 29.81535 \n",
      "The median age for females who survived was:  28.5 \n",
      "The standard deviation for females who survived was:  14.76928 \n",
      "The range for females who survived was:  75.8333 \n",
      "\n",
      "\n",
      "NON-SURVIVORS\n",
      "The mean age for females who did not survive was: 25.25521 \n",
      "The median age for females who did not survive was:  24.5 \n",
      "The standard deviation for females who did not survive was:  13.47688 \n",
      "The range for females who did not survive was:  62 \n"
     ]
    }
   ],
   "source": [
    "cat(\"SURVIVORS\\n\")\n",
    "female.survivors.ages <- na.omit(TITANIC3$age[TITANIC3$sex == \"female\" & TITANIC3$survived == \"1\"])\n",
    "\n",
    "\n",
    "mean.female.survivors.ages <- mean(female.survivors.ages)\n",
    "cat(\"The mean age for females who survived was:\", mean.female.survivors.ages, \"\\n\")\n",
    "\n",
    "med.female.survivors.ages <- median(female.survivors.ages)\n",
    "cat(\"The median age for females who survived was: \", med.female.survivors.ages, \"\\n\")\n",
    "\n",
    "sd.female.survivors.ages <- sd(female.survivors.ages)\n",
    "cat(\"The standard deviation for females who survived was: \", sd.female.survivors.ages, \"\\n\")\n",
    "\n",
    "range.female.survivors.ages <- range(female.survivors.ages)\n",
    "female.survivor.range <- range.female.survivors.ages[2] - range.female.survivors.ages[1]\n",
    "cat(\"The range for females who survived was: \", female.survivor.range, \"\\n\")\n",
    "\n",
    "\n",
    "cat(\"\\n\\nNON-SURVIVORS\")\n",
    "female.nonsurvivors.ages <- na.omit(TITANIC3$age[TITANIC3$sex == \"female\" & TITANIC3$survived == \"0\"])\n",
    "\n",
    "mean.female.nonsurvivors.ages <- mean(female.nonsurvivors.ages)\n",
    "cat(\"\\nThe mean age for females who did not survive was:\", mean.female.nonsurvivors.ages, \"\\n\")\n",
    "\n",
    "med.female.nonsurvivors.ages <- median(female.nonsurvivors.ages)\n",
    "cat(\"The median age for females who did not survive was: \", med.female.nonsurvivors.ages, \"\\n\")\n",
    "\n",
    "sd.female.nonsurvivors.ages <- sd(female.nonsurvivors.ages)\n",
    "cat(\"The standard deviation for females who did not survive was: \", sd.female.nonsurvivors.ages, \"\\n\")\n",
    "\n",
    "range.female.nonsurvivors.ages <- range(female.nonsurvivors.ages)\n",
    "female.nonsurvivor.range <- range.female.nonsurvivors.ages[2] - range.female.nonsurvivors.ages[1]\n",
    "cat(\"The range for females who did not survive was: \", female.nonsurvivor.range, \"\\n\")"
   ]
  },
  {
   "cell_type": "markdown",
   "metadata": {},
   "source": [
    "**ANSWER: The mean and median ages for females who survived are higher than those for the females who did not survive.**"
   ]
  },
  {
   "cell_type": "markdown",
   "metadata": {},
   "source": [
    "#### (h) Were the median and mean ages for males who survived higher or lower than for males who did not survive? Repeat part (g) but for the males."
   ]
  },
  {
   "cell_type": "code",
   "execution_count": 8,
   "metadata": {},
   "outputs": [
    {
     "name": "stdout",
     "output_type": "stream",
     "text": [
      "The mean age for males who survived was: 26.97778 \n",
      "The median age for males who survived was:  27 \n",
      "The standard deviation for males who survived was:  15.55388 \n",
      "The range for males who survived was:  79.5833 \n",
      "\n",
      "The mean age for males who did not survive was: 31.51641 \n",
      "The median age for females who did not survive was:  29 \n",
      "The standard deviation for males who did not survive was:  13.79635 \n",
      "The range for males who did not survive was:  73.6667 \n"
     ]
    }
   ],
   "source": [
    "male.survivors.ages <- na.omit(TITANIC3$age[TITANIC3$sex == \"male\" & TITANIC3$survived == \"1\"])\n",
    "\n",
    "mean.male.survivors.ages <- mean(male.survivors.ages)\n",
    "cat(\"The mean age for males who survived was:\", mean.male.survivors.ages, \"\\n\")\n",
    "\n",
    "med.male.survivors.ages <- median(male.survivors.ages)\n",
    "cat(\"The median age for males who survived was: \", med.male.survivors.ages, \"\\n\")\n",
    "\n",
    "sd.male.survivors.ages <- sd(male.survivors.ages)\n",
    "cat(\"The standard deviation for males who survived was: \", sd.male.survivors.ages, \"\\n\")\n",
    "\n",
    "range.male.survivors.ages <- range(male.survivors.ages)\n",
    "male.survivor.range <- range.male.survivors.ages[2] - range.male.survivors.ages[1]\n",
    "cat(\"The range for males who survived was: \", male.survivor.range, \"\\n\")\n",
    "\n",
    "male.nonsurvivors.ages <- na.omit(TITANIC3$age[TITANIC3$sex == \"male\" & TITANIC3$survived == \"0\"])\n",
    "\n",
    "mean.male.nonsurvivors.ages <- mean(male.nonsurvivors.ages)\n",
    "cat(\"\\nThe mean age for males who did not survive was:\", mean.male.nonsurvivors.ages, \"\\n\")\n",
    "\n",
    "med.male.nonsurvivors.ages <- median(male.nonsurvivors.ages)\n",
    "cat(\"The median age for females who did not survive was: \", med.male.nonsurvivors.ages, \"\\n\")\n",
    "\n",
    "sd.male.nonsurvivors.ages <- sd(male.nonsurvivors.ages)\n",
    "cat(\"The standard deviation for males who did not survive was: \", sd.male.nonsurvivors.ages, \"\\n\")\n",
    "\n",
    "range.male.nonsurvivors.ages <- range(male.nonsurvivors.ages)\n",
    "male.nonsurvivor.range <- range.male.nonsurvivors.ages[2] - range.male.nonsurvivors.ages[1]\n",
    "cat(\"The range for males who did not survive was: \", male.nonsurvivor.range, \"\\n\")"
   ]
  },
  {
   "cell_type": "markdown",
   "metadata": {},
   "source": [
    "**ANSWER: The mean and median age for males who survived was lower than those of males who did not survive.**"
   ]
  },
  {
   "cell_type": "markdown",
   "metadata": {},
   "source": [
    "#### (i) What was the age of the youngest female in the first class who survived?"
   ]
  },
  {
   "cell_type": "code",
   "execution_count": 9,
   "metadata": {},
   "outputs": [
    {
     "name": "stdout",
     "output_type": "stream",
     "text": [
      "The age of the youngest female in the first class who survived was:  0.9167 years old"
     ]
    }
   ],
   "source": [
    "cat(\"The age of the youngest female in the first class who survived was: \", min(na.omit(TITANIC3$age[TITANIC3$sex == \"male\" & TITANIC3$survived == \"1\" & TITANIC3$pclass == \"1\"])), \"years old\")"
   ]
  },
  {
   "cell_type": "markdown",
   "metadata": {},
   "source": [
    "#### (j) Do the data suggest that the final hours aboard the Titanic were characterized by class warfare, male chivalry, some combination of both, or neither? Justify your answer based on computations above, or based on other explorations of the data."
   ]
  },
  {
   "cell_type": "markdown",
   "metadata": {
    "collapsed": true
   },
   "source": [
    "From the survival rate with respect to class we see that first class passengers had the largest percentage of surviving and the passengers in the third class had the highest percentage of not surviving, from this we could speculate that whether or not you were put on a life boat depended on what class you were from. In terms of male chivalry we see that when we condition on class and gender in all classes the percentage of female survivors was higher than that of male survivors, therefore there must have been male chivalry that contributed to why females were more likely to be saved than males."
   ]
  },
  {
   "cell_type": "markdown",
   "metadata": {},
   "source": [
    "## Problem 2\n",
    "\n",
    "#### (a) We will conduct a simulation in ${\\tt R}$ to numerically illustrate the results from theoretical question 3 (a). First generate $n=100$ data points randomly selected from the interval $(0,50)$ using the ${\\tt runif()}$ command."
   ]
  },
  {
   "cell_type": "code",
   "execution_count": 10,
   "metadata": {},
   "outputs": [
    {
     "data": {
      "text/html": [
       "<ol class=list-inline>\n",
       "\t<li>13.275433157105</li>\n",
       "\t<li>18.6061949818395</li>\n",
       "\t<li>28.6426681675948</li>\n",
       "\t<li>45.4103894997388</li>\n",
       "\t<li>10.0840965518728</li>\n",
       "\t<li>44.9194842483848</li>\n",
       "</ol>\n"
      ],
      "text/latex": [
       "\\begin{enumerate*}\n",
       "\\item 13.275433157105\n",
       "\\item 18.6061949818395\n",
       "\\item 28.6426681675948\n",
       "\\item 45.4103894997388\n",
       "\\item 10.0840965518728\n",
       "\\item 44.9194842483848\n",
       "\\end{enumerate*}\n"
      ],
      "text/markdown": [
       "1. 13.275433157105\n",
       "2. 18.6061949818395\n",
       "3. 28.6426681675948\n",
       "4. 45.4103894997388\n",
       "5. 10.0840965518728\n",
       "6. 44.9194842483848\n",
       "\n",
       "\n"
      ],
      "text/plain": [
       "[1] 13.27543 18.60619 28.64267 45.41039 10.08410 44.91948"
      ]
     },
     "metadata": {},
     "output_type": "display_data"
    }
   ],
   "source": [
    "set.seed(1)\n",
    "n = 100\n",
    "data <- runif(n, 0, 50)\n",
    "head(data)\n"
   ]
  },
  {
   "cell_type": "markdown",
   "metadata": {},
   "source": [
    "#### (b) Now add a new data point to the original dataset, say $x_{101}=40$. Now calculate the mean of the old data set, the new data set and then show that quantities you calculated in theoretical question 3(a) are equal."
   ]
  },
  {
   "cell_type": "code",
   "execution_count": 35,
   "metadata": {},
   "outputs": [
    {
     "data": {
      "text/html": [
       "TRUE"
      ],
      "text/latex": [
       "TRUE"
      ],
      "text/markdown": [
       "TRUE"
      ],
      "text/plain": [
       "[1] TRUE"
      ]
     },
     "metadata": {},
     "output_type": "display_data"
    }
   ],
   "source": [
    "xn1 <- 40\n",
    "new_data <- c(data, xn1)\n",
    "\n",
    "xnbar <- mean(data)\n",
    "\n",
    "xn1bar <- mean(new_data)\n",
    "\n",
    "## Checking if the equation we derived is true\n",
    "xn1bar == xnbar + ((xn1 - xnbar) / (n + 1))"
   ]
  },
  {
   "cell_type": "markdown",
   "metadata": {},
   "source": [
    "#### (c) With regards to the variance of the old and new data set, it can be shown that   \n",
    "$$\n",
    "s_{n+1}^2 = \\frac{(n-1)}{n}s_{n}^2 +  \\frac{1}{n+1}(x_{n+1} - \\bar{x}_n)^2\n",
    "$$\n",
    "\n",
    "#### where $s_{n}^2$ is the variance of the old data set and $s_{n+1}^2$ is the variance of the new data set. Verify this result computationally with the old and new data sets from part (b)."
   ]
  },
  {
   "cell_type": "code",
   "execution_count": 34,
   "metadata": {},
   "outputs": [
    {
     "data": {
      "text/html": [
       "TRUE"
      ],
      "text/latex": [
       "TRUE"
      ],
      "text/markdown": [
       "TRUE"
      ],
      "text/plain": [
       "[1] TRUE"
      ]
     },
     "metadata": {},
     "output_type": "display_data"
    }
   ],
   "source": [
    "sn <- var(data)\n",
    "\n",
    "sn1 <- var(new_data)\n",
    "\n",
    "\n",
    "# checking if the equation we derived is true\n",
    "sn1 == (((n-1)/n)*(sn)) + ((1/(n+1))*((xn1 - xnbar)**2))"
   ]
  },
  {
   "cell_type": "markdown",
   "metadata": {},
   "source": [
    "#### (d) Use ${\\tt runif()}$ to generate $n=100$ data points from the interval $(0,50)$ and then determine the 5% trimmed mean and 50% trimmed mean, see help page for ${\\tt mean()}$ regarding trimmed means. Compare with the median."
   ]
  },
  {
   "cell_type": "code",
   "execution_count": 13,
   "metadata": {},
   "outputs": [
    {
     "data": {
      "text/html": [
       "26.0065581803469"
      ],
      "text/latex": [
       "26.0065581803469"
      ],
      "text/markdown": [
       "26.0065581803469"
      ],
      "text/plain": [
       "[1] 26.00656"
      ]
     },
     "metadata": {},
     "output_type": "display_data"
    },
    {
     "data": {
      "text/html": [
       "24.3905355629977"
      ],
      "text/latex": [
       "24.3905355629977"
      ],
      "text/markdown": [
       "24.3905355629977"
      ],
      "text/plain": [
       "[1] 24.39054"
      ]
     },
     "metadata": {},
     "output_type": "display_data"
    },
    {
     "data": {
      "text/html": [
       "24.3905355629977"
      ],
      "text/latex": [
       "24.3905355629977"
      ],
      "text/markdown": [
       "24.3905355629977"
      ],
      "text/plain": [
       "[1] 24.39054"
      ]
     },
     "metadata": {},
     "output_type": "display_data"
    },
    {
     "data": {
      "text/html": [
       "TRUE"
      ],
      "text/latex": [
       "TRUE"
      ],
      "text/markdown": [
       "TRUE"
      ],
      "text/plain": [
       "[1] TRUE"
      ]
     },
     "metadata": {},
     "output_type": "display_data"
    }
   ],
   "source": [
    "set.seed(1)\n",
    "n = 100\n",
    "data <- runif(n, 0, 50)\n",
    "\n",
    "xbartr5 <- mean(data, trim = 0.05)\n",
    "\n",
    "xbartr50 <- mean(data, trim = 0.5)\n",
    "\n",
    "xmed <- median(data)\n",
    "\n",
    "xbartr5\n",
    "\n",
    "xbartr50\n",
    "\n",
    "xmed\n",
    "\n",
    "xbartr50 == xmed"
   ]
  },
  {
   "cell_type": "markdown",
   "metadata": {},
   "source": [
    "**ANSWER: Taking the 50% trimmed mean is equivalent to taking the median.**"
   ]
  },
  {
   "cell_type": "markdown",
   "metadata": {},
   "source": [
    "## Problem 3\n",
    "\n",
    "#### (a) Load the chocolate.csv data into R (perhaps using the ${\\tt read.csv()}$ function, download the file to your computer from Canvas). Print a summary of the data using ${\\tt summary()}$.\n"
   ]
  },
  {
   "cell_type": "code",
   "execution_count": 14,
   "metadata": {},
   "outputs": [
    {
     "data": {
      "text/plain": [
       " Company...Maker.if.known.   Specific.Bean.Origin.or.Bar.Name      REF      \n",
       " Soma    :  47             Madagascar        :  57            Min.   :   5  \n",
       " Bonnat  :  27             Peru              :  45            1st Qu.: 576  \n",
       " Fresco  :  26             Ecuador           :  42            Median :1069  \n",
       " Pralus  :  25             Dominican Republic:  37            Mean   :1036  \n",
       " A. Morin:  23             Venezuela         :  21            3rd Qu.:1502  \n",
       " Arete   :  22             Chuao             :  19            Max.   :1952  \n",
       " (Other) :1625             (Other)           :1574                          \n",
       "  Review.Date   Cocoa.Percent Company.Location     Rating     \n",
       " Min.   :2006   70%    :672   U.S.A. :764      Min.   :1.000  \n",
       " 1st Qu.:2010   75%    :222   France :156      1st Qu.:2.875  \n",
       " Median :2013   72%    :189   Canada :125      Median :3.250  \n",
       " Mean   :2012   65%    : 78   U.K.   : 96      Mean   :3.186  \n",
       " 3rd Qu.:2015   80%    : 72   Italy  : 63      3rd Qu.:3.500  \n",
       " Max.   :2017   74%    : 50   Ecuador: 54      Max.   :5.000  \n",
       "                (Other):512   (Other):537                     \n",
       "                Bean.Type            Broad.Bean.Origin\n",
       "                     :887   Venezuela         :214    \n",
       " Trinitario          :419   Ecuador           :193    \n",
       " Criollo             :153   Peru              :165    \n",
       " Forastero           : 87   Madagascar        :145    \n",
       " Forastero (Nacional): 52   Dominican Republic:141    \n",
       " Blend               : 41                     : 73    \n",
       " (Other)             :156   (Other)           :864    "
      ]
     },
     "metadata": {},
     "output_type": "display_data"
    }
   ],
   "source": [
    "#change the directory below as necessary to load the data from your computer...\n",
    "choc = read.csv(\"chocolate.csv\")\n",
    "\n",
    "summary(choc)\n"
   ]
  },
  {
   "cell_type": "markdown",
   "metadata": {},
   "source": [
    "#### (b) Which variables are stored as factors, and which are stored as numeric? The function ${\\tt class()}$ may help. (Note that ${\\tt sapply()}$ can be used to apply a function to an entire vector or matrix).\n"
   ]
  },
  {
   "cell_type": "code",
   "execution_count": 15,
   "metadata": {},
   "outputs": [
    {
     "data": {
      "text/html": [
       "<ol class=list-inline>\n",
       "\t<li>'Company...Maker.if.known.'</li>\n",
       "\t<li>'Specific.Bean.Origin.or.Bar.Name'</li>\n",
       "\t<li>'REF'</li>\n",
       "\t<li>'Review.Date'</li>\n",
       "\t<li>'Cocoa.Percent'</li>\n",
       "\t<li>'Company.Location'</li>\n",
       "\t<li>'Rating'</li>\n",
       "\t<li>'Bean.Type'</li>\n",
       "\t<li>'Broad.Bean.Origin'</li>\n",
       "</ol>\n"
      ],
      "text/latex": [
       "\\begin{enumerate*}\n",
       "\\item 'Company...Maker.if.known.'\n",
       "\\item 'Specific.Bean.Origin.or.Bar.Name'\n",
       "\\item 'REF'\n",
       "\\item 'Review.Date'\n",
       "\\item 'Cocoa.Percent'\n",
       "\\item 'Company.Location'\n",
       "\\item 'Rating'\n",
       "\\item 'Bean.Type'\n",
       "\\item 'Broad.Bean.Origin'\n",
       "\\end{enumerate*}\n"
      ],
      "text/markdown": [
       "1. 'Company...Maker.if.known.'\n",
       "2. 'Specific.Bean.Origin.or.Bar.Name'\n",
       "3. 'REF'\n",
       "4. 'Review.Date'\n",
       "5. 'Cocoa.Percent'\n",
       "6. 'Company.Location'\n",
       "7. 'Rating'\n",
       "8. 'Bean.Type'\n",
       "9. 'Broad.Bean.Origin'\n",
       "\n",
       "\n"
      ],
      "text/plain": [
       "[1] \"Company...Maker.if.known.\"        \"Specific.Bean.Origin.or.Bar.Name\"\n",
       "[3] \"REF\"                              \"Review.Date\"                     \n",
       "[5] \"Cocoa.Percent\"                    \"Company.Location\"                \n",
       "[7] \"Rating\"                           \"Bean.Type\"                       \n",
       "[9] \"Broad.Bean.Origin\"               "
      ]
     },
     "metadata": {},
     "output_type": "display_data"
    },
    {
     "data": {
      "text/html": [
       "<dl class=dl-horizontal>\n",
       "\t<dt>Company...Maker.if.known.</dt>\n",
       "\t\t<dd>'factor'</dd>\n",
       "\t<dt>Specific.Bean.Origin.or.Bar.Name</dt>\n",
       "\t\t<dd>'factor'</dd>\n",
       "\t<dt>REF</dt>\n",
       "\t\t<dd>'integer'</dd>\n",
       "\t<dt>Review.Date</dt>\n",
       "\t\t<dd>'integer'</dd>\n",
       "\t<dt>Cocoa.Percent</dt>\n",
       "\t\t<dd>'factor'</dd>\n",
       "\t<dt>Company.Location</dt>\n",
       "\t\t<dd>'factor'</dd>\n",
       "\t<dt>Rating</dt>\n",
       "\t\t<dd>'numeric'</dd>\n",
       "\t<dt>Bean.Type</dt>\n",
       "\t\t<dd>'factor'</dd>\n",
       "\t<dt>Broad.Bean.Origin</dt>\n",
       "\t\t<dd>'factor'</dd>\n",
       "</dl>\n"
      ],
      "text/latex": [
       "\\begin{description*}\n",
       "\\item[Company...Maker.if.known.] 'factor'\n",
       "\\item[Specific.Bean.Origin.or.Bar.Name] 'factor'\n",
       "\\item[REF] 'integer'\n",
       "\\item[Review.Date] 'integer'\n",
       "\\item[Cocoa.Percent] 'factor'\n",
       "\\item[Company.Location] 'factor'\n",
       "\\item[Rating] 'numeric'\n",
       "\\item[Bean.Type] 'factor'\n",
       "\\item[Broad.Bean.Origin] 'factor'\n",
       "\\end{description*}\n"
      ],
      "text/markdown": [
       "Company...Maker.if.known.\n",
       ":   'factor'Specific.Bean.Origin.or.Bar.Name\n",
       ":   'factor'REF\n",
       ":   'integer'Review.Date\n",
       ":   'integer'Cocoa.Percent\n",
       ":   'factor'Company.Location\n",
       ":   'factor'Rating\n",
       ":   'numeric'Bean.Type\n",
       ":   'factor'Broad.Bean.Origin\n",
       ":   'factor'\n",
       "\n"
      ],
      "text/plain": [
       "       Company...Maker.if.known. Specific.Bean.Origin.or.Bar.Name \n",
       "                        \"factor\"                         \"factor\" \n",
       "                             REF                      Review.Date \n",
       "                       \"integer\"                        \"integer\" \n",
       "                   Cocoa.Percent                 Company.Location \n",
       "                        \"factor\"                         \"factor\" \n",
       "                          Rating                        Bean.Type \n",
       "                       \"numeric\"                         \"factor\" \n",
       "               Broad.Bean.Origin \n",
       "                        \"factor\" "
      ]
     },
     "metadata": {},
     "output_type": "display_data"
    }
   ],
   "source": [
    "# ?sapply\n",
    "names(choc)\n",
    "\n",
    "sapply(choc, class)"
   ]
  },
  {
   "cell_type": "markdown",
   "metadata": {},
   "source": [
    "#### (c) Change the variable names to: ${\\tt company, sorigin, ref, date, cocoa, location, rating, type, borigin}$."
   ]
  },
  {
   "cell_type": "code",
   "execution_count": 16,
   "metadata": {},
   "outputs": [
    {
     "data": {
      "text/html": [
       "<table>\n",
       "<thead><tr><th scope=col>company</th><th scope=col>sorigin</th><th scope=col>ref</th><th scope=col>date</th><th scope=col>cocoa</th><th scope=col>location</th><th scope=col>rating</th><th scope=col>type</th><th scope=col>borigin</th></tr></thead>\n",
       "<tbody>\n",
       "\t<tr><td>A. Morin   </td><td>Agua Grande</td><td>1876       </td><td>2016       </td><td>63%        </td><td>France     </td><td>3.75       </td><td>           </td><td>Sao Tome   </td></tr>\n",
       "\t<tr><td>A. Morin   </td><td>Kpime      </td><td>1676       </td><td>2015       </td><td>70%        </td><td>France     </td><td>2.75       </td><td>           </td><td>Togo       </td></tr>\n",
       "\t<tr><td>A. Morin   </td><td>Atsane     </td><td>1676       </td><td>2015       </td><td>70%        </td><td>France     </td><td>3.00       </td><td>           </td><td>Togo       </td></tr>\n",
       "\t<tr><td>A. Morin   </td><td>Akata      </td><td>1680       </td><td>2015       </td><td>70%        </td><td>France     </td><td>3.50       </td><td>           </td><td>Togo       </td></tr>\n",
       "\t<tr><td>A. Morin   </td><td>Quilla     </td><td>1704       </td><td>2015       </td><td>70%        </td><td>France     </td><td>3.50       </td><td>           </td><td>Peru       </td></tr>\n",
       "\t<tr><td>A. Morin   </td><td>Carenero   </td><td>1315       </td><td>2014       </td><td>70%        </td><td>France     </td><td>2.75       </td><td>Criollo    </td><td>Venezuela  </td></tr>\n",
       "</tbody>\n",
       "</table>\n"
      ],
      "text/latex": [
       "\\begin{tabular}{r|lllllllll}\n",
       " company & sorigin & ref & date & cocoa & location & rating & type & borigin\\\\\n",
       "\\hline\n",
       "\t A. Morin    & Agua Grande & 1876        & 2016        & 63\\%       & France      & 3.75        &             & Sao Tome   \\\\\n",
       "\t A. Morin    & Kpime       & 1676        & 2015        & 70\\%       & France      & 2.75        &             & Togo       \\\\\n",
       "\t A. Morin    & Atsane      & 1676        & 2015        & 70\\%       & France      & 3.00        &             & Togo       \\\\\n",
       "\t A. Morin    & Akata       & 1680        & 2015        & 70\\%       & France      & 3.50        &             & Togo       \\\\\n",
       "\t A. Morin    & Quilla      & 1704        & 2015        & 70\\%       & France      & 3.50        &             & Peru       \\\\\n",
       "\t A. Morin    & Carenero    & 1315        & 2014        & 70\\%       & France      & 2.75        & Criollo     & Venezuela  \\\\\n",
       "\\end{tabular}\n"
      ],
      "text/markdown": [
       "\n",
       "company | sorigin | ref | date | cocoa | location | rating | type | borigin | \n",
       "|---|---|---|---|---|---|\n",
       "| A. Morin    | Agua Grande | 1876        | 2016        | 63%         | France      | 3.75        |             | Sao Tome    | \n",
       "| A. Morin    | Kpime       | 1676        | 2015        | 70%         | France      | 2.75        |             | Togo        | \n",
       "| A. Morin    | Atsane      | 1676        | 2015        | 70%         | France      | 3.00        |             | Togo        | \n",
       "| A. Morin    | Akata       | 1680        | 2015        | 70%         | France      | 3.50        |             | Togo        | \n",
       "| A. Morin    | Quilla      | 1704        | 2015        | 70%         | France      | 3.50        |             | Peru        | \n",
       "| A. Morin    | Carenero    | 1315        | 2014        | 70%         | France      | 2.75        | Criollo     | Venezuela   | \n",
       "\n",
       "\n"
      ],
      "text/plain": [
       "  company  sorigin     ref  date cocoa location rating type    borigin  \n",
       "1 A. Morin Agua Grande 1876 2016 63%   France   3.75           Sao Tome \n",
       "2 A. Morin Kpime       1676 2015 70%   France   2.75           Togo     \n",
       "3 A. Morin Atsane      1676 2015 70%   France   3.00           Togo     \n",
       "4 A. Morin Akata       1680 2015 70%   France   3.50           Togo     \n",
       "5 A. Morin Quilla      1704 2015 70%   France   3.50           Peru     \n",
       "6 A. Morin Carenero    1315 2014 70%   France   2.75   Criollo Venezuela"
      ]
     },
     "metadata": {},
     "output_type": "display_data"
    }
   ],
   "source": [
    "names(choc) <- c(\"company\", \"sorigin\", \"ref\", \"date\", \"cocoa\", \"location\", \"rating\", \"type\", \"borigin\")\n",
    "\n",
    "head(choc)"
   ]
  },
  {
   "cell_type": "markdown",
   "metadata": {},
   "source": [
    "#### (d) Create a new data frame with just: ${\\tt company, cocoa, location, rating}$. Use this data frame for all remaining questions. (Preview your data frame with the ${\\tt head()}$ command.)"
   ]
  },
  {
   "cell_type": "code",
   "execution_count": 17,
   "metadata": {},
   "outputs": [
    {
     "data": {
      "text/html": [
       "<table>\n",
       "<thead><tr><th scope=col>Company</th><th scope=col>Cocoa</th><th scope=col>Loation</th><th scope=col>Rating</th></tr></thead>\n",
       "<tbody>\n",
       "\t<tr><td>A. Morin          </td><td>63%               </td><td>France            </td><td>3.75              </td></tr>\n",
       "\t<tr><td>A. Morin          </td><td>70%               </td><td>France            </td><td>2.75              </td></tr>\n",
       "\t<tr><td>A. Morin          </td><td>70%               </td><td>France            </td><td>3.00              </td></tr>\n",
       "\t<tr><td>A. Morin          </td><td>70%               </td><td>France            </td><td>3.50              </td></tr>\n",
       "\t<tr><td>A. Morin          </td><td>70%               </td><td>France            </td><td>3.50              </td></tr>\n",
       "\t<tr><td>A. Morin          </td><td>70%               </td><td>France            </td><td>2.75              </td></tr>\n",
       "\t<tr><td>A. Morin          </td><td>70%               </td><td>France            </td><td>3.50              </td></tr>\n",
       "\t<tr><td>A. Morin          </td><td>70%               </td><td>France            </td><td>3.50              </td></tr>\n",
       "\t<tr><td>A. Morin          </td><td>70%               </td><td>France            </td><td>3.75              </td></tr>\n",
       "\t<tr><td>A. Morin          </td><td>70%               </td><td>France            </td><td>4.00              </td></tr>\n",
       "\t<tr><td>A. Morin          </td><td>70%               </td><td>France            </td><td>2.75              </td></tr>\n",
       "\t<tr><td>A. Morin          </td><td>70%               </td><td>France            </td><td>3.00              </td></tr>\n",
       "\t<tr><td>A. Morin          </td><td>70%               </td><td>France            </td><td>3.25              </td></tr>\n",
       "\t<tr><td>A. Morin          </td><td>70%               </td><td>France            </td><td>3.75              </td></tr>\n",
       "\t<tr><td>A. Morin          </td><td>70%               </td><td>France            </td><td>2.75              </td></tr>\n",
       "\t<tr><td>A. Morin          </td><td>70%               </td><td>France            </td><td>3.00              </td></tr>\n",
       "\t<tr><td>A. Morin          </td><td>70%               </td><td>France            </td><td>3.25              </td></tr>\n",
       "\t<tr><td>A. Morin          </td><td>70%               </td><td>France            </td><td>4.00              </td></tr>\n",
       "\t<tr><td>A. Morin          </td><td>70%               </td><td>France            </td><td>3.25              </td></tr>\n",
       "\t<tr><td>A. Morin          </td><td>70%               </td><td>France            </td><td>3.50              </td></tr>\n",
       "\t<tr><td>A. Morin          </td><td>63%               </td><td>France            </td><td>4.00              </td></tr>\n",
       "\t<tr><td>A. Morin          </td><td>70%               </td><td>France            </td><td>3.50              </td></tr>\n",
       "\t<tr><td>A. Morin          </td><td>63%               </td><td>France            </td><td>3.75              </td></tr>\n",
       "\t<tr><td>Acalli            </td><td>70%               </td><td>U.S.A.            </td><td>3.75              </td></tr>\n",
       "\t<tr><td>Acalli            </td><td>70%               </td><td>U.S.A.            </td><td>3.75              </td></tr>\n",
       "\t<tr><td>Adi               </td><td>60%               </td><td>Fiji              </td><td>2.75              </td></tr>\n",
       "\t<tr><td>Adi               </td><td>80%               </td><td>Fiji              </td><td>3.25              </td></tr>\n",
       "\t<tr><td>Adi               </td><td>88%               </td><td>Fiji              </td><td>3.50              </td></tr>\n",
       "\t<tr><td>Adi               </td><td>72%               </td><td>Fiji              </td><td>3.50              </td></tr>\n",
       "\t<tr><td>Aequare (Gianduja)</td><td>55%               </td><td>Ecuador           </td><td>2.75              </td></tr>\n",
       "\t<tr><td>⋮</td><td>⋮</td><td>⋮</td><td>⋮</td></tr>\n",
       "\t<tr><td>Zak's        </td><td>70%          </td><td>U.S.A.       </td><td>3.50         </td></tr>\n",
       "\t<tr><td>Zak's        </td><td>60%          </td><td>U.S.A.       </td><td>3.00         </td></tr>\n",
       "\t<tr><td>Zart Pralinen</td><td>70%          </td><td>Austria      </td><td>3.50         </td></tr>\n",
       "\t<tr><td>Zart Pralinen</td><td>70%          </td><td>Austria      </td><td>2.75         </td></tr>\n",
       "\t<tr><td>Zart Pralinen</td><td>85%          </td><td>Austria      </td><td>2.75         </td></tr>\n",
       "\t<tr><td>Zart Pralinen</td><td>85%          </td><td>Austria      </td><td>3.00         </td></tr>\n",
       "\t<tr><td>Zart Pralinen</td><td>70%          </td><td>Austria      </td><td>3.50         </td></tr>\n",
       "\t<tr><td>Zart Pralinen</td><td>78%          </td><td>Austria      </td><td>3.50         </td></tr>\n",
       "\t<tr><td>Zokoko       </td><td>78%          </td><td>Australia    </td><td>3.75         </td></tr>\n",
       "\t<tr><td>Zokoko       </td><td>65%          </td><td>Australia    </td><td>3.25         </td></tr>\n",
       "\t<tr><td>Zokoko       </td><td>68%          </td><td>Australia    </td><td>3.50         </td></tr>\n",
       "\t<tr><td>Zokoko       </td><td>66%          </td><td>Australia    </td><td>3.50         </td></tr>\n",
       "\t<tr><td>Zokoko       </td><td>72%          </td><td>Australia    </td><td>3.75         </td></tr>\n",
       "\t<tr><td>Zotter       </td><td>80%          </td><td>Austria      </td><td>2.75         </td></tr>\n",
       "\t<tr><td>Zotter       </td><td>72%          </td><td>Austria      </td><td>3.50         </td></tr>\n",
       "\t<tr><td>Zotter       </td><td>65%          </td><td>Austria      </td><td>3.50         </td></tr>\n",
       "\t<tr><td>Zotter       </td><td>70%          </td><td>Austria      </td><td>3.00         </td></tr>\n",
       "\t<tr><td>Zotter       </td><td>70%          </td><td>Austria      </td><td>3.50         </td></tr>\n",
       "\t<tr><td>Zotter       </td><td>62%          </td><td>Austria      </td><td>3.75         </td></tr>\n",
       "\t<tr><td>Zotter       </td><td>75%          </td><td>Austria      </td><td>3.00         </td></tr>\n",
       "\t<tr><td>Zotter       </td><td>75%          </td><td>Austria      </td><td>3.00         </td></tr>\n",
       "\t<tr><td>Zotter       </td><td>90%          </td><td>Austria      </td><td>3.25         </td></tr>\n",
       "\t<tr><td>Zotter       </td><td>70%          </td><td>Austria      </td><td>3.75         </td></tr>\n",
       "\t<tr><td>Zotter       </td><td>68%          </td><td>Austria      </td><td>3.25         </td></tr>\n",
       "\t<tr><td>Zotter       </td><td>58%          </td><td>Austria      </td><td>3.50         </td></tr>\n",
       "\t<tr><td>Zotter       </td><td>70%          </td><td>Austria      </td><td>3.75         </td></tr>\n",
       "\t<tr><td>Zotter       </td><td>65%          </td><td>Austria      </td><td>3.00         </td></tr>\n",
       "\t<tr><td>Zotter       </td><td>65%          </td><td>Austria      </td><td>3.50         </td></tr>\n",
       "\t<tr><td>Zotter       </td><td>62%          </td><td>Austria      </td><td>3.25         </td></tr>\n",
       "\t<tr><td>Zotter       </td><td>65%          </td><td>Austria      </td><td>3.00         </td></tr>\n",
       "</tbody>\n",
       "</table>\n"
      ],
      "text/latex": [
       "\\begin{tabular}{r|llll}\n",
       " Company & Cocoa & Loation & Rating\\\\\n",
       "\\hline\n",
       "\t A. Morin           & 63\\%              & France             & 3.75              \\\\\n",
       "\t A. Morin           & 70\\%              & France             & 2.75              \\\\\n",
       "\t A. Morin           & 70\\%              & France             & 3.00              \\\\\n",
       "\t A. Morin           & 70\\%              & France             & 3.50              \\\\\n",
       "\t A. Morin           & 70\\%              & France             & 3.50              \\\\\n",
       "\t A. Morin           & 70\\%              & France             & 2.75              \\\\\n",
       "\t A. Morin           & 70\\%              & France             & 3.50              \\\\\n",
       "\t A. Morin           & 70\\%              & France             & 3.50              \\\\\n",
       "\t A. Morin           & 70\\%              & France             & 3.75              \\\\\n",
       "\t A. Morin           & 70\\%              & France             & 4.00              \\\\\n",
       "\t A. Morin           & 70\\%              & France             & 2.75              \\\\\n",
       "\t A. Morin           & 70\\%              & France             & 3.00              \\\\\n",
       "\t A. Morin           & 70\\%              & France             & 3.25              \\\\\n",
       "\t A. Morin           & 70\\%              & France             & 3.75              \\\\\n",
       "\t A. Morin           & 70\\%              & France             & 2.75              \\\\\n",
       "\t A. Morin           & 70\\%              & France             & 3.00              \\\\\n",
       "\t A. Morin           & 70\\%              & France             & 3.25              \\\\\n",
       "\t A. Morin           & 70\\%              & France             & 4.00              \\\\\n",
       "\t A. Morin           & 70\\%              & France             & 3.25              \\\\\n",
       "\t A. Morin           & 70\\%              & France             & 3.50              \\\\\n",
       "\t A. Morin           & 63\\%              & France             & 4.00              \\\\\n",
       "\t A. Morin           & 70\\%              & France             & 3.50              \\\\\n",
       "\t A. Morin           & 63\\%              & France             & 3.75              \\\\\n",
       "\t Acalli             & 70\\%              & U.S.A.             & 3.75              \\\\\n",
       "\t Acalli             & 70\\%              & U.S.A.             & 3.75              \\\\\n",
       "\t Adi                & 60\\%              & Fiji               & 2.75              \\\\\n",
       "\t Adi                & 80\\%              & Fiji               & 3.25              \\\\\n",
       "\t Adi                & 88\\%              & Fiji               & 3.50              \\\\\n",
       "\t Adi                & 72\\%              & Fiji               & 3.50              \\\\\n",
       "\t Aequare (Gianduja) & 55\\%              & Ecuador            & 2.75              \\\\\n",
       "\t ⋮ & ⋮ & ⋮ & ⋮\\\\\n",
       "\t Zak's         & 70\\%         & U.S.A.        & 3.50         \\\\\n",
       "\t Zak's         & 60\\%         & U.S.A.        & 3.00         \\\\\n",
       "\t Zart Pralinen & 70\\%         & Austria       & 3.50         \\\\\n",
       "\t Zart Pralinen & 70\\%         & Austria       & 2.75         \\\\\n",
       "\t Zart Pralinen & 85\\%         & Austria       & 2.75         \\\\\n",
       "\t Zart Pralinen & 85\\%         & Austria       & 3.00         \\\\\n",
       "\t Zart Pralinen & 70\\%         & Austria       & 3.50         \\\\\n",
       "\t Zart Pralinen & 78\\%         & Austria       & 3.50         \\\\\n",
       "\t Zokoko        & 78\\%         & Australia     & 3.75         \\\\\n",
       "\t Zokoko        & 65\\%         & Australia     & 3.25         \\\\\n",
       "\t Zokoko        & 68\\%         & Australia     & 3.50         \\\\\n",
       "\t Zokoko        & 66\\%         & Australia     & 3.50         \\\\\n",
       "\t Zokoko        & 72\\%         & Australia     & 3.75         \\\\\n",
       "\t Zotter        & 80\\%         & Austria       & 2.75         \\\\\n",
       "\t Zotter        & 72\\%         & Austria       & 3.50         \\\\\n",
       "\t Zotter        & 65\\%         & Austria       & 3.50         \\\\\n",
       "\t Zotter        & 70\\%         & Austria       & 3.00         \\\\\n",
       "\t Zotter        & 70\\%         & Austria       & 3.50         \\\\\n",
       "\t Zotter        & 62\\%         & Austria       & 3.75         \\\\\n",
       "\t Zotter        & 75\\%         & Austria       & 3.00         \\\\\n",
       "\t Zotter        & 75\\%         & Austria       & 3.00         \\\\\n",
       "\t Zotter        & 90\\%         & Austria       & 3.25         \\\\\n",
       "\t Zotter        & 70\\%         & Austria       & 3.75         \\\\\n",
       "\t Zotter        & 68\\%         & Austria       & 3.25         \\\\\n",
       "\t Zotter        & 58\\%         & Austria       & 3.50         \\\\\n",
       "\t Zotter        & 70\\%         & Austria       & 3.75         \\\\\n",
       "\t Zotter        & 65\\%         & Austria       & 3.00         \\\\\n",
       "\t Zotter        & 65\\%         & Austria       & 3.50         \\\\\n",
       "\t Zotter        & 62\\%         & Austria       & 3.25         \\\\\n",
       "\t Zotter        & 65\\%         & Austria       & 3.00         \\\\\n",
       "\\end{tabular}\n"
      ],
      "text/markdown": [
       "\n",
       "Company | Cocoa | Loation | Rating | \n",
       "|---|---|---|---|---|---|---|---|---|---|---|---|---|---|---|---|---|---|---|---|---|---|---|---|---|---|---|---|---|---|---|---|---|---|---|---|---|---|---|---|---|---|---|---|---|---|---|---|---|---|---|---|---|---|---|---|---|---|---|---|---|\n",
       "| A. Morin           | 63%                | France             | 3.75               | \n",
       "| A. Morin           | 70%                | France             | 2.75               | \n",
       "| A. Morin           | 70%                | France             | 3.00               | \n",
       "| A. Morin           | 70%                | France             | 3.50               | \n",
       "| A. Morin           | 70%                | France             | 3.50               | \n",
       "| A. Morin           | 70%                | France             | 2.75               | \n",
       "| A. Morin           | 70%                | France             | 3.50               | \n",
       "| A. Morin           | 70%                | France             | 3.50               | \n",
       "| A. Morin           | 70%                | France             | 3.75               | \n",
       "| A. Morin           | 70%                | France             | 4.00               | \n",
       "| A. Morin           | 70%                | France             | 2.75               | \n",
       "| A. Morin           | 70%                | France             | 3.00               | \n",
       "| A. Morin           | 70%                | France             | 3.25               | \n",
       "| A. Morin           | 70%                | France             | 3.75               | \n",
       "| A. Morin           | 70%                | France             | 2.75               | \n",
       "| A. Morin           | 70%                | France             | 3.00               | \n",
       "| A. Morin           | 70%                | France             | 3.25               | \n",
       "| A. Morin           | 70%                | France             | 4.00               | \n",
       "| A. Morin           | 70%                | France             | 3.25               | \n",
       "| A. Morin           | 70%                | France             | 3.50               | \n",
       "| A. Morin           | 63%                | France             | 4.00               | \n",
       "| A. Morin           | 70%                | France             | 3.50               | \n",
       "| A. Morin           | 63%                | France             | 3.75               | \n",
       "| Acalli             | 70%                | U.S.A.             | 3.75               | \n",
       "| Acalli             | 70%                | U.S.A.             | 3.75               | \n",
       "| Adi                | 60%                | Fiji               | 2.75               | \n",
       "| Adi                | 80%                | Fiji               | 3.25               | \n",
       "| Adi                | 88%                | Fiji               | 3.50               | \n",
       "| Adi                | 72%                | Fiji               | 3.50               | \n",
       "| Aequare (Gianduja) | 55%                | Ecuador            | 2.75               | \n",
       "| ⋮ | ⋮ | ⋮ | ⋮ | \n",
       "| Zak's         | 70%           | U.S.A.        | 3.50          | \n",
       "| Zak's         | 60%           | U.S.A.        | 3.00          | \n",
       "| Zart Pralinen | 70%           | Austria       | 3.50          | \n",
       "| Zart Pralinen | 70%           | Austria       | 2.75          | \n",
       "| Zart Pralinen | 85%           | Austria       | 2.75          | \n",
       "| Zart Pralinen | 85%           | Austria       | 3.00          | \n",
       "| Zart Pralinen | 70%           | Austria       | 3.50          | \n",
       "| Zart Pralinen | 78%           | Austria       | 3.50          | \n",
       "| Zokoko        | 78%           | Australia     | 3.75          | \n",
       "| Zokoko        | 65%           | Australia     | 3.25          | \n",
       "| Zokoko        | 68%           | Australia     | 3.50          | \n",
       "| Zokoko        | 66%           | Australia     | 3.50          | \n",
       "| Zokoko        | 72%           | Australia     | 3.75          | \n",
       "| Zotter        | 80%           | Austria       | 2.75          | \n",
       "| Zotter        | 72%           | Austria       | 3.50          | \n",
       "| Zotter        | 65%           | Austria       | 3.50          | \n",
       "| Zotter        | 70%           | Austria       | 3.00          | \n",
       "| Zotter        | 70%           | Austria       | 3.50          | \n",
       "| Zotter        | 62%           | Austria       | 3.75          | \n",
       "| Zotter        | 75%           | Austria       | 3.00          | \n",
       "| Zotter        | 75%           | Austria       | 3.00          | \n",
       "| Zotter        | 90%           | Austria       | 3.25          | \n",
       "| Zotter        | 70%           | Austria       | 3.75          | \n",
       "| Zotter        | 68%           | Austria       | 3.25          | \n",
       "| Zotter        | 58%           | Austria       | 3.50          | \n",
       "| Zotter        | 70%           | Austria       | 3.75          | \n",
       "| Zotter        | 65%           | Austria       | 3.00          | \n",
       "| Zotter        | 65%           | Austria       | 3.50          | \n",
       "| Zotter        | 62%           | Austria       | 3.25          | \n",
       "| Zotter        | 65%           | Austria       | 3.00          | \n",
       "\n",
       "\n"
      ],
      "text/plain": [
       "     Company            Cocoa Loation   Rating\n",
       "1    A. Morin           63%   France    3.75  \n",
       "2    A. Morin           70%   France    2.75  \n",
       "3    A. Morin           70%   France    3.00  \n",
       "4    A. Morin           70%   France    3.50  \n",
       "5    A. Morin           70%   France    3.50  \n",
       "6    A. Morin           70%   France    2.75  \n",
       "7    A. Morin           70%   France    3.50  \n",
       "8    A. Morin           70%   France    3.50  \n",
       "9    A. Morin           70%   France    3.75  \n",
       "10   A. Morin           70%   France    4.00  \n",
       "11   A. Morin           70%   France    2.75  \n",
       "12   A. Morin           70%   France    3.00  \n",
       "13   A. Morin           70%   France    3.25  \n",
       "14   A. Morin           70%   France    3.75  \n",
       "15   A. Morin           70%   France    2.75  \n",
       "16   A. Morin           70%   France    3.00  \n",
       "17   A. Morin           70%   France    3.25  \n",
       "18   A. Morin           70%   France    4.00  \n",
       "19   A. Morin           70%   France    3.25  \n",
       "20   A. Morin           70%   France    3.50  \n",
       "21   A. Morin           63%   France    4.00  \n",
       "22   A. Morin           70%   France    3.50  \n",
       "23   A. Morin           63%   France    3.75  \n",
       "24   Acalli             70%   U.S.A.    3.75  \n",
       "25   Acalli             70%   U.S.A.    3.75  \n",
       "26   Adi                60%   Fiji      2.75  \n",
       "27   Adi                80%   Fiji      3.25  \n",
       "28   Adi                88%   Fiji      3.50  \n",
       "29   Adi                72%   Fiji      3.50  \n",
       "30   Aequare (Gianduja) 55%   Ecuador   2.75  \n",
       "⋮    ⋮                  ⋮     ⋮         ⋮     \n",
       "1766 Zak's              70%   U.S.A.    3.50  \n",
       "1767 Zak's              60%   U.S.A.    3.00  \n",
       "1768 Zart Pralinen      70%   Austria   3.50  \n",
       "1769 Zart Pralinen      70%   Austria   2.75  \n",
       "1770 Zart Pralinen      85%   Austria   2.75  \n",
       "1771 Zart Pralinen      85%   Austria   3.00  \n",
       "1772 Zart Pralinen      70%   Austria   3.50  \n",
       "1773 Zart Pralinen      78%   Austria   3.50  \n",
       "1774 Zokoko             78%   Australia 3.75  \n",
       "1775 Zokoko             65%   Australia 3.25  \n",
       "1776 Zokoko             68%   Australia 3.50  \n",
       "1777 Zokoko             66%   Australia 3.50  \n",
       "1778 Zokoko             72%   Australia 3.75  \n",
       "1779 Zotter             80%   Austria   2.75  \n",
       "1780 Zotter             72%   Austria   3.50  \n",
       "1781 Zotter             65%   Austria   3.50  \n",
       "1782 Zotter             70%   Austria   3.00  \n",
       "1783 Zotter             70%   Austria   3.50  \n",
       "1784 Zotter             62%   Austria   3.75  \n",
       "1785 Zotter             75%   Austria   3.00  \n",
       "1786 Zotter             75%   Austria   3.00  \n",
       "1787 Zotter             90%   Austria   3.25  \n",
       "1788 Zotter             70%   Austria   3.75  \n",
       "1789 Zotter             68%   Austria   3.25  \n",
       "1790 Zotter             58%   Austria   3.50  \n",
       "1791 Zotter             70%   Austria   3.75  \n",
       "1792 Zotter             65%   Austria   3.00  \n",
       "1793 Zotter             65%   Austria   3.50  \n",
       "1794 Zotter             62%   Austria   3.25  \n",
       "1795 Zotter             65%   Austria   3.00  "
      ]
     },
     "metadata": {},
     "output_type": "display_data"
    }
   ],
   "source": [
    "cclr <- data.frame(Company=choc$company, Cocoa=choc$cocoa, Loation=choc$location, Rating=choc$rating)\n",
    "cclr"
   ]
  },
  {
   "cell_type": "markdown",
   "metadata": {},
   "source": [
    "#### (e) What happens when the command ${\\tt subset(x, rating== min(rating))}$ (where ${\\tt x}$ is the name of the data frame created in part (d) above) is executed?"
   ]
  },
  {
   "cell_type": "code",
   "execution_count": 18,
   "metadata": {},
   "outputs": [
    {
     "data": {
      "text/html": [
       "<table>\n",
       "<thead><tr><th></th><th scope=col>Company</th><th scope=col>Cocoa</th><th scope=col>Loation</th><th scope=col>Rating</th></tr></thead>\n",
       "<tbody>\n",
       "\t<tr><th scope=row>327</th><td>Callebaut          </td><td>70%                </td><td>Belgium            </td><td>1                  </td></tr>\n",
       "\t<tr><th scope=row>438</th><td>Claudio Corallo    </td><td>100%               </td><td>Sao Tome           </td><td>1                  </td></tr>\n",
       "\t<tr><th scope=row>466</th><td>Cote d' Or (Kraft) </td><td>70%                </td><td>Belgium            </td><td>1                  </td></tr>\n",
       "\t<tr><th scope=row>1176</th><td>Neuhaus (Callebaut)</td><td>73%                </td><td>Belgium            </td><td>1                  </td></tr>\n",
       "</tbody>\n",
       "</table>\n"
      ],
      "text/latex": [
       "\\begin{tabular}{r|llll}\n",
       "  & Company & Cocoa & Loation & Rating\\\\\n",
       "\\hline\n",
       "\t327 & Callebaut           & 70\\%               & Belgium             & 1                  \\\\\n",
       "\t438 & Claudio Corallo     & 100\\%              & Sao Tome            & 1                  \\\\\n",
       "\t466 & Cote d' Or (Kraft)  & 70\\%               & Belgium             & 1                  \\\\\n",
       "\t1176 & Neuhaus (Callebaut) & 73\\%               & Belgium             & 1                  \\\\\n",
       "\\end{tabular}\n"
      ],
      "text/markdown": [
       "\n",
       "| <!--/--> | Company | Cocoa | Loation | Rating | \n",
       "|---|---|---|---|\n",
       "| 327 | Callebaut           | 70%                 | Belgium             | 1                   | \n",
       "| 438 | Claudio Corallo     | 100%                | Sao Tome            | 1                   | \n",
       "| 466 | Cote d' Or (Kraft)  | 70%                 | Belgium             | 1                   | \n",
       "| 1176 | Neuhaus (Callebaut) | 73%                 | Belgium             | 1                   | \n",
       "\n",
       "\n"
      ],
      "text/plain": [
       "     Company             Cocoa Loation  Rating\n",
       "327  Callebaut           70%   Belgium  1     \n",
       "438  Claudio Corallo     100%  Sao Tome 1     \n",
       "466  Cote d' Or (Kraft)  70%   Belgium  1     \n",
       "1176 Neuhaus (Callebaut) 73%   Belgium  1     "
      ]
     },
     "metadata": {},
     "output_type": "display_data"
    }
   ],
   "source": [
    "subset(cclr, Rating == min(Rating))"
   ]
  },
  {
   "cell_type": "markdown",
   "metadata": {},
   "source": [
    "**ANSWER: It gives you a subset of the data frame where each value is group by rating and that rating being the minimum rating overall in the data frame. It groups together all the rows whose rating is 1 (the minimum rating).**"
   ]
  },
  {
   "cell_type": "markdown",
   "metadata": {},
   "source": [
    "#### (f) Which company makes the highest rated chocolate bar? The lowest?"
   ]
  },
  {
   "cell_type": "code",
   "execution_count": 19,
   "metadata": {},
   "outputs": [
    {
     "data": {
      "text/html": [
       "<table>\n",
       "<thead><tr><th></th><th scope=col>Company</th><th scope=col>Cocoa</th><th scope=col>Loation</th><th scope=col>Rating</th></tr></thead>\n",
       "<tbody>\n",
       "\t<tr><th scope=row>79</th><td>Amedei</td><td>70%   </td><td>Italy </td><td>5     </td></tr>\n",
       "\t<tr><th scope=row>87</th><td>Amedei</td><td>70%   </td><td>Italy </td><td>5     </td></tr>\n",
       "</tbody>\n",
       "</table>\n"
      ],
      "text/latex": [
       "\\begin{tabular}{r|llll}\n",
       "  & Company & Cocoa & Loation & Rating\\\\\n",
       "\\hline\n",
       "\t79 & Amedei & 70\\%  & Italy  & 5     \\\\\n",
       "\t87 & Amedei & 70\\%  & Italy  & 5     \\\\\n",
       "\\end{tabular}\n"
      ],
      "text/markdown": [
       "\n",
       "| <!--/--> | Company | Cocoa | Loation | Rating | \n",
       "|---|---|\n",
       "| 79 | Amedei | 70%    | Italy  | 5      | \n",
       "| 87 | Amedei | 70%    | Italy  | 5      | \n",
       "\n",
       "\n"
      ],
      "text/plain": [
       "   Company Cocoa Loation Rating\n",
       "79 Amedei  70%   Italy   5     \n",
       "87 Amedei  70%   Italy   5     "
      ]
     },
     "metadata": {},
     "output_type": "display_data"
    }
   ],
   "source": [
    "subset(cclr, Rating == max(Rating))"
   ]
  },
  {
   "cell_type": "markdown",
   "metadata": {},
   "source": [
    "**ANSWER: The Amedei company makes the highest rated chocolate bar while Callebaut, Claudio Corallo, Cote d' Or (Kraft), and Neuhaus (Callebaut) all share the title of making the lowest rated chocolate bar.**"
   ]
  },
  {
   "cell_type": "code",
   "execution_count": null,
   "metadata": {},
   "outputs": [],
   "source": []
  }
 ],
 "metadata": {
  "kernelspec": {
   "display_name": "R",
   "language": "R",
   "name": "ir"
  },
  "language_info": {
   "codemirror_mode": "r",
   "file_extension": ".r",
   "mimetype": "text/x-r-source",
   "name": "R",
   "pygments_lexer": "r",
   "version": "3.5.1"
  }
 },
 "nbformat": 4,
 "nbformat_minor": 2
}
