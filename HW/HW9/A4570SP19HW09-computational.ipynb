{
 "cells": [
  {
   "cell_type": "markdown",
   "metadata": {},
   "source": [
    "# Homework #9: Computational Questions\n",
    "\n",
    "All computations should be done in this notebook using the R kernel. This is your first opportunity to get familiar with R outside of class, so please take your time on the problems that require it. Working in small groups is allowed, but it is important that you make an effort to master the material and hand in your own work. Follow all instructions very closely or points will be deducted.\n",
    "\n",
    "#### You will be required to submit this notebook, fully compiled with your solutions, as an Jupyter Notebook and as an HTML file to Canvas by 5pm on Friday, April 26.\n",
    "\n",
    "#### Read and sign the Honor Code Pledge below:\n",
    "\n",
    "**Honor Code Pledge: _On my honor, as a University of Colorado Boulder student, I have neither given nor received unauthorized assistance on this work._**"
   ]
  },
  {
   "cell_type": "markdown",
   "metadata": {},
   "source": [
    "### _TYPE YOUR FULL NAME HERE_"
   ]
  },
  {
   "cell_type": "markdown",
   "metadata": {},
   "source": [
    "## Problem 1\n",
    "\n",
    "#### (a) Generate 10,000 samples of size $n_1 = 20$ from $X \\sim N(8,2)$ and 10,000 samples of size $n_2 = 20$ from $Y\\sim N(6,2)$. Use ${\\tt set.seed(89)}$ so that the answers are reproducible. Assume $X$ and $Y$ are independent and $\\alpha = 0.05$. Create a density (not frequency!) histogram of the 10,000 values of $s_x^2\\big/s_y^2$."
   ]
  },
  {
   "cell_type": "code",
   "execution_count": null,
   "metadata": {},
   "outputs": [],
   "source": []
  },
  {
   "cell_type": "markdown",
   "metadata": {},
   "source": [
    "#### (b)  Superimpose the density curve of a F distribution with $n=19$ and $m=19$ degrees of freedom on the density histogram of $s_x^2\\big/s_y^2$ What type of distribution does the statistic $s_x^2\\big/s_y^2$ follow?"
   ]
  },
  {
   "cell_type": "code",
   "execution_count": null,
   "metadata": {},
   "outputs": [],
   "source": []
  },
  {
   "cell_type": "markdown",
   "metadata": {},
   "source": []
  },
  {
   "cell_type": "markdown",
   "metadata": {},
   "source": [
    "## Problem 2\n",
    "\n",
    "The manager of a web company is interested in predicting the number of megabytes downloaded by clients (*i.e.* the variable ${\\tt megasd}$) according to the number of minutes they are connected (*i.e.* the variable ${\\tt mconnected}$). The manager randomly selects clients and records the data (*i.e.* the (${\\tt megasd, mconnected}$) pairs) and stores them in the file ${\\tt url-SP19-R.csv}$ (or ${\\tt url-SP19-TAB.txt}$)."
   ]
  },
  {
   "cell_type": "markdown",
   "metadata": {},
   "source": [
    "#### (a) Load the data from ${\\tt url-SP19-R.csv}$ (or ${\\tt url-SP19-TAB.txt}$)."
   ]
  },
  {
   "cell_type": "code",
   "execution_count": null,
   "metadata": {},
   "outputs": [],
   "source": []
  },
  {
   "cell_type": "markdown",
   "metadata": {},
   "source": [
    "#### (b) Create a scatterplot of the data with megabytes downloaded as a function of minutes connected. Characterize the relationship between ${\\tt megasd}$ and ${\\tt mconnected}$."
   ]
  },
  {
   "cell_type": "code",
   "execution_count": null,
   "metadata": {},
   "outputs": [],
   "source": []
  },
  {
   "cell_type": "markdown",
   "metadata": {},
   "source": []
  },
  {
   "cell_type": "markdown",
   "metadata": {},
   "source": [
    "#### (c)  Fit a regression line to the data. Superimpose the resulting line on the plot created in part (b).\n"
   ]
  },
  {
   "cell_type": "code",
   "execution_count": null,
   "metadata": {},
   "outputs": [],
   "source": []
  },
  {
   "cell_type": "markdown",
   "metadata": {},
   "source": [
    "#### (d) Display the summary of the linear model. What is the standard error of $\\widehat{\\beta}_1$? "
   ]
  },
  {
   "cell_type": "code",
   "execution_count": null,
   "metadata": {},
   "outputs": [],
   "source": []
  },
  {
   "cell_type": "markdown",
   "metadata": {},
   "source": []
  },
  {
   "cell_type": "markdown",
   "metadata": {},
   "source": [
    "#### (e) How much variability in ${\\tt megasd}$ can be explained by ${\\tt mconnected}$?"
   ]
  },
  {
   "cell_type": "markdown",
   "metadata": {},
   "source": []
  },
  {
   "cell_type": "markdown",
   "metadata": {},
   "source": [
    "#### (f) Estimate the mean value of megabytes downloaded by clients spending 4, 8, and 12 minutes online and give a 95% confidence interval for those estimates. (Hint: See the [${\\tt predict()}$](https://www.rdocumentation.org/packages/stats/versions/3.5.3/topics/predict.lm) command.) Give a brief interpretation of your results."
   ]
  },
  {
   "cell_type": "code",
   "execution_count": null,
   "metadata": {},
   "outputs": [],
   "source": []
  },
  {
   "cell_type": "markdown",
   "metadata": {},
   "source": []
  },
  {
   "cell_type": "markdown",
   "metadata": {},
   "source": [
    "#### (g) Construct a 90% confidence interval for the slope of the regression line. (See [${\\tt confint()}$](https://www.rdocumentation.org/packages/stats/versions/3.5.3/topics/confint) command.)"
   ]
  },
  {
   "cell_type": "code",
   "execution_count": null,
   "metadata": {},
   "outputs": [],
   "source": []
  }
 ],
 "metadata": {
  "kernelspec": {
   "display_name": "R",
   "language": "R",
   "name": "ir"
  },
  "language_info": {
   "codemirror_mode": "r",
   "file_extension": ".r",
   "mimetype": "text/x-r-source",
   "name": "R",
   "pygments_lexer": "r",
   "version": "3.5.1"
  }
 },
 "nbformat": 4,
 "nbformat_minor": 2
}
