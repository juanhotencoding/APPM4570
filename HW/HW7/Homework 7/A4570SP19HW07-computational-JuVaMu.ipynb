{
 "cells": [
  {
   "cell_type": "markdown",
   "metadata": {},
   "source": [
    "# Homework #7: Computational Questions\n",
    "\n",
    "All computations should be done in this notebook using the R kernel. This is your first opportunity to get familiar with R outside of class, so please take your time on the problems that require it. Working in small groups is allowed, but it is important that you make an effort to master the material and hand in your own work. Follow all instructions very closely or points will be deducted.\n",
    "\n",
    "#### You will be required to submit this notebook, fully compiled with your solutions, as an Jupyter Notebook and as an HTML file to Canvas by 5pm on Wednesday, March 20.\n",
    "\n",
    "#### Read and sign the Honor Code Pledge below:\n",
    "\n",
    "**Honor Code Pledge: _On my honor, as a University of Colorado Boulder student, I have neither given nor received unauthorized assistance on this work._**"
   ]
  },
  {
   "cell_type": "markdown",
   "metadata": {},
   "source": [
    "### _Juan Vargas-Murillo_"
   ]
  },
  {
   "cell_type": "markdown",
   "metadata": {},
   "source": [
    "## Problem 1\n",
    "\n",
    "This problem uses data on velocities and distances of 24 galaxies containing Cepheid stars from the Hubble space telescope. You will find a data frame with 3 columns and 24 rows. The columns are (from left to right):\n",
    "\n",
    "\"Galaxy A\" - label identifying the galaxies<br/>\n",
    "\"y\" - the galaxy's relative velocity in km/sec<br/>\n",
    "\"x\" - the galaxy's distance from earth in Megaparsecs (1 parsec is approximately 30 trillion km)<br/>"
   ]
  },
  {
   "cell_type": "markdown",
   "metadata": {},
   "source": [
    "#### (a) Load the hubble telescope data found in the file ${\\tt hubble-SP19-TAB.txt}$ or ${\\tt hubble-SP19-R.csv}$ into R. "
   ]
  },
  {
   "cell_type": "code",
   "execution_count": 1,
   "metadata": {},
   "outputs": [
    {
     "data": {
      "text/html": [
       "<table>\n",
       "<thead><tr><th scope=col>Galaxy</th><th scope=col>y</th><th scope=col>x</th></tr></thead>\n",
       "<tbody>\n",
       "\t<tr><td>NGC0300 </td><td> 133    </td><td> 2.00   </td></tr>\n",
       "\t<tr><td>NGC0925 </td><td> 664    </td><td> 9.16   </td></tr>\n",
       "\t<tr><td>NGC1326A</td><td>1794    </td><td>16.14   </td></tr>\n",
       "\t<tr><td>NGC1365 </td><td>1594    </td><td>17.95   </td></tr>\n",
       "\t<tr><td>NGC1425 </td><td>1473    </td><td>21.88   </td></tr>\n",
       "\t<tr><td>NGC2403 </td><td> 278    </td><td> 3.22   </td></tr>\n",
       "</tbody>\n",
       "</table>\n"
      ],
      "text/latex": [
       "\\begin{tabular}{r|lll}\n",
       " Galaxy & y & x\\\\\n",
       "\\hline\n",
       "\t NGC0300  &  133     &  2.00   \\\\\n",
       "\t NGC0925  &  664     &  9.16   \\\\\n",
       "\t NGC1326A & 1794     & 16.14   \\\\\n",
       "\t NGC1365  & 1594     & 17.95   \\\\\n",
       "\t NGC1425  & 1473     & 21.88   \\\\\n",
       "\t NGC2403  &  278     &  3.22   \\\\\n",
       "\\end{tabular}\n"
      ],
      "text/markdown": [
       "\n",
       "Galaxy | y | x | \n",
       "|---|---|---|---|---|---|\n",
       "| NGC0300  |  133     |  2.00    | \n",
       "| NGC0925  |  664     |  9.16    | \n",
       "| NGC1326A | 1794     | 16.14    | \n",
       "| NGC1365  | 1594     | 17.95    | \n",
       "| NGC1425  | 1473     | 21.88    | \n",
       "| NGC2403  |  278     |  3.22    | \n",
       "\n",
       "\n"
      ],
      "text/plain": [
       "  Galaxy   y    x    \n",
       "1 NGC0300   133  2.00\n",
       "2 NGC0925   664  9.16\n",
       "3 NGC1326A 1794 16.14\n",
       "4 NGC1365  1594 17.95\n",
       "5 NGC1425  1473 21.88\n",
       "6 NGC2403   278  3.22"
      ]
     },
     "metadata": {},
     "output_type": "display_data"
    }
   ],
   "source": [
    "hubba_bubba <- read.csv('hubble-SP19-R.csv')\n",
    "head(hubba_bubba)"
   ]
  },
  {
   "cell_type": "markdown",
   "metadata": {},
   "source": [
    "#### (b) Note that since the size of the data set is $n=24<40$, and since the distribution of the average distance of a galaxy from earth is assumed to be normally distributed (by the CLT, if we assume independence) and since we don't know the variance, we will use a <ins>t-Distribution Confidence Interval</ins>.\n",
    "\n",
    "##### Now suppose we wish to determine a 85% t-Confidence Interval for the mean of a galaxy's distance from the Earth (in Megaparsecs), what upper <ins>t critical value</ins> would we use? That is, find the value of $t_{\\alpha/2,n-1}$ for a 85% t-Confidence Interval for the mean of a galaxy's distance from the Earth."
   ]
  },
  {
   "cell_type": "code",
   "execution_count": 5,
   "metadata": {},
   "outputs": [
    {
     "data": {
      "text/html": [
       "1.48927689709799"
      ],
      "text/latex": [
       "1.48927689709799"
      ],
      "text/markdown": [
       "1.48927689709799"
      ],
      "text/plain": [
       "[1] 1.489277"
      ]
     },
     "metadata": {},
     "output_type": "display_data"
    }
   ],
   "source": [
    "# alpha = 1 - CI = 1 - .85 = 0.15; t sub alpha / 2 = 0.075 and in R alpha = .925; \n",
    "# and degrees of freedom is n - 1 = 24 - 1 = 23\n",
    "critical.value <- qt(0.925, 23)\n",
    "critical.value"
   ]
  },
  {
   "cell_type": "markdown",
   "metadata": {},
   "source": [
    "#### (c) Now calculate the 85% t-confidence interval for the mean of a galaxy's distance from Earth by doing the computation for the confidence interval formula <ins>explicitly</ins> ."
   ]
  },
  {
   "cell_type": "code",
   "execution_count": 50,
   "metadata": {},
   "outputs": [
    {
     "data": {
      "text/html": [
       "<ol class=list-inline>\n",
       "\t<li>1.55532818225841</li>\n",
       "\t<li>22.5538384844083</li>\n",
       "</ol>\n"
      ],
      "text/latex": [
       "\\begin{enumerate*}\n",
       "\\item 1.55532818225841\n",
       "\\item 22.5538384844083\n",
       "\\end{enumerate*}\n"
      ],
      "text/markdown": [
       "1. 1.55532818225841\n",
       "2. 22.5538384844083\n",
       "\n",
       "\n"
      ],
      "text/plain": [
       "[1]  1.555328 22.553838"
      ]
     },
     "metadata": {},
     "output_type": "display_data"
    }
   ],
   "source": [
    "sample.mean <- mean(hubba_bubba$x)\n",
    "sample.variance <- sum((hubba_bubba$x - sample.mean)**2) / 23 # s = sum(x_i-x_bar)**2 / (n - 1 = 24 - 1 = 23)\n",
    "# sample.mean\n",
    "confidence.interval <- c(sample.mean - (critical.value * (sample.variance / sqrt(23))), sample.mean + (critical.value * (sample.variance / sqrt(23))))\n",
    "\n",
    "confidence.interval\n"
   ]
  },
  {
   "cell_type": "markdown",
   "metadata": {},
   "source": [
    "#### (d) Use the built in R function [${\\tt t.test()}$](https://www.rdocumentation.org/packages/stats/versions/3.5.2/topics/t.test) to find a 85% t-Confidence Interval for the mean of a galaxy's distance from Earth."
   ]
  },
  {
   "cell_type": "code",
   "execution_count": 32,
   "metadata": {},
   "outputs": [
    {
     "data": {
      "text/plain": [
       "\n",
       "\tOne Sample t-test\n",
       "\n",
       "data:  hubba_bubba$x\n",
       "t = 10.156, df = 23, p-value = 5.701e-10\n",
       "alternative hypothesis: true mean is not equal to 0\n",
       "85 percent confidence interval:\n",
       " 10.28695 13.82222\n",
       "sample estimates:\n",
       "mean of x \n",
       " 12.05458 \n"
      ]
     },
     "metadata": {},
     "output_type": "display_data"
    }
   ],
   "source": [
    "# ?t.test\n",
    "t.test(hubba_bubba$x, conf.level = .85) #$conf.int[1]"
   ]
  },
  {
   "cell_type": "code",
   "execution_count": 33,
   "metadata": {},
   "outputs": [],
   "source": [
    "?t.test"
   ]
  },
  {
   "cell_type": "markdown",
   "metadata": {},
   "source": [
    "#### (e) Interpret the confidence interval."
   ]
  },
  {
   "cell_type": "markdown",
   "metadata": {},
   "source": [
    "**STUDENT ANSWER:** The confidence interval is telling us that in repeated sampling of the distances of galaxy's from Earth, 85% of the confidence intervals obtained from all samples have as there limits 10.28695 and 13.82222 (megaparsec)."
   ]
  },
  {
   "cell_type": "markdown",
   "metadata": {},
   "source": [
    "## Problem 2 - Interpreting Confidence Intervals"
   ]
  },
  {
   "cell_type": "markdown",
   "metadata": {},
   "source": [
    "#### (a) Draw 100 random samples (of size 24) from a <ins>normal distribution</ins> with mean $\\mu=9$ and standard deviation $\\sigma=1.43$. Put this data in a matrix with <ins>24 rows</ins> and <ins>100 columns</ins> (so each column represents one sample of 24 data points, use the [${\\tt matrix()}$](https://www.rdocumentation.org/packages/base/versions/3.5.2/topics/matrix) command to create the matrix.) Use the ${\\tt dim()}$ command on your matrix to show it has the right dimensions."
   ]
  },
  {
   "cell_type": "code",
   "execution_count": 29,
   "metadata": {},
   "outputs": [
    {
     "data": {
      "text/html": [
       "<ol class=list-inline>\n",
       "\t<li>24</li>\n",
       "\t<li>100</li>\n",
       "</ol>\n"
      ],
      "text/latex": [
       "\\begin{enumerate*}\n",
       "\\item 24\n",
       "\\item 100\n",
       "\\end{enumerate*}\n"
      ],
      "text/markdown": [
       "1. 24\n",
       "2. 100\n",
       "\n",
       "\n"
      ],
      "text/plain": [
       "[1]  24 100"
      ]
     },
     "metadata": {},
     "output_type": "display_data"
    },
    {
     "data": {
      "text/html": [
       "<table>\n",
       "<tbody>\n",
       "\t<tr><td>10.028335</td><td>9.546444 </td><td>10.515212</td><td> 9.719587</td><td> 8.141072</td><td> 9.955483</td><td>6.337439 </td><td>13.178706</td><td> 9.750329</td><td> 7.942663</td><td>⋯        </td><td>9.217956 </td><td>7.125195 </td><td>8.928547 </td><td>10.222949</td><td>11.165430</td><td> 7.737488</td><td> 8.659221</td><td> 9.815217</td><td>10.515025</td><td> 9.066363</td></tr>\n",
       "\t<tr><td> 7.452748</td><td>6.794591 </td><td> 6.284152</td><td>11.588242</td><td> 7.708659</td><td> 7.984314</td><td>9.610407 </td><td> 9.345248</td><td>10.363567</td><td> 9.680446</td><td>⋯        </td><td>9.523282 </td><td>8.915744 </td><td>7.637325 </td><td>11.984160</td><td> 8.687178</td><td> 9.340377</td><td> 7.470117</td><td> 6.688072</td><td> 8.185364</td><td> 7.914446</td></tr>\n",
       "\t<tr><td>10.099379</td><td>8.663095 </td><td> 9.696549</td><td> 9.525820</td><td> 9.121004</td><td>11.179189</td><td>8.491143 </td><td> 7.945668</td><td> 8.572236</td><td> 7.821948</td><td>⋯        </td><td>6.397463 </td><td>9.047139 </td><td>8.012543 </td><td> 9.046531</td><td> 7.749223</td><td> 7.854213</td><td> 9.953238</td><td> 9.582053</td><td>11.729488</td><td>10.746724</td></tr>\n",
       "\t<tr><td> 7.822116</td><td>9.207262 </td><td>10.791697</td><td> 8.788026</td><td> 9.510115</td><td> 7.457688</td><td>8.349871 </td><td> 9.498505</td><td>12.593290</td><td> 9.928362</td><td>⋯        </td><td>7.684475 </td><td>9.213252 </td><td>7.956641 </td><td> 8.298329</td><td> 6.337637</td><td> 5.880875</td><td>10.029232</td><td> 8.943203</td><td>10.147852</td><td> 8.876776</td></tr>\n",
       "\t<tr><td> 7.559860</td><td>7.211397 </td><td> 9.946219</td><td> 8.571802</td><td>10.977203</td><td> 5.384408</td><td>7.821065 </td><td>11.044525</td><td>10.161470</td><td>10.060353</td><td>⋯        </td><td>8.320990 </td><td>7.665498 </td><td>7.286200 </td><td> 6.587294</td><td> 9.764433</td><td>12.940667</td><td> 9.867729</td><td> 8.404407</td><td> 9.529858</td><td> 6.688796</td></tr>\n",
       "\t<tr><td> 8.253048</td><td>8.187509 </td><td> 9.166707</td><td> 9.400143</td><td> 6.897901</td><td> 9.807155</td><td>7.871724 </td><td> 9.752349</td><td> 7.736833</td><td> 8.677976</td><td>⋯        </td><td>6.162928 </td><td>8.226868 </td><td>8.943327 </td><td>10.220301</td><td> 8.213657</td><td>11.644709</td><td> 7.467402</td><td>10.259070</td><td>10.102217</td><td>10.413646</td></tr>\n",
       "</tbody>\n",
       "</table>\n"
      ],
      "text/latex": [
       "\\begin{tabular}{llllllllllllllllllllllllllllllllllllllllllllllllllllllllllllllllllllllllllllllllllllllllllllllllllll}\n",
       "\t 10.028335 & 9.546444  & 10.515212 &  9.719587 &  8.141072 &  9.955483 & 6.337439  & 13.178706 &  9.750329 &  7.942663 & ⋯         & 9.217956  & 7.125195  & 8.928547  & 10.222949 & 11.165430 &  7.737488 &  8.659221 &  9.815217 & 10.515025 &  9.066363\\\\\n",
       "\t  7.452748 & 6.794591  &  6.284152 & 11.588242 &  7.708659 &  7.984314 & 9.610407  &  9.345248 & 10.363567 &  9.680446 & ⋯         & 9.523282  & 8.915744  & 7.637325  & 11.984160 &  8.687178 &  9.340377 &  7.470117 &  6.688072 &  8.185364 &  7.914446\\\\\n",
       "\t 10.099379 & 8.663095  &  9.696549 &  9.525820 &  9.121004 & 11.179189 & 8.491143  &  7.945668 &  8.572236 &  7.821948 & ⋯         & 6.397463  & 9.047139  & 8.012543  &  9.046531 &  7.749223 &  7.854213 &  9.953238 &  9.582053 & 11.729488 & 10.746724\\\\\n",
       "\t  7.822116 & 9.207262  & 10.791697 &  8.788026 &  9.510115 &  7.457688 & 8.349871  &  9.498505 & 12.593290 &  9.928362 & ⋯         & 7.684475  & 9.213252  & 7.956641  &  8.298329 &  6.337637 &  5.880875 & 10.029232 &  8.943203 & 10.147852 &  8.876776\\\\\n",
       "\t  7.559860 & 7.211397  &  9.946219 &  8.571802 & 10.977203 &  5.384408 & 7.821065  & 11.044525 & 10.161470 & 10.060353 & ⋯         & 8.320990  & 7.665498  & 7.286200  &  6.587294 &  9.764433 & 12.940667 &  9.867729 &  8.404407 &  9.529858 &  6.688796\\\\\n",
       "\t  8.253048 & 8.187509  &  9.166707 &  9.400143 &  6.897901 &  9.807155 & 7.871724  &  9.752349 &  7.736833 &  8.677976 & ⋯         & 6.162928  & 8.226868  & 8.943327  & 10.220301 &  8.213657 & 11.644709 &  7.467402 & 10.259070 & 10.102217 & 10.413646\\\\\n",
       "\\end{tabular}\n"
      ],
      "text/markdown": [
       "\n",
       "| 10.028335 | 9.546444  | 10.515212 |  9.719587 |  8.141072 |  9.955483 | 6.337439  | 13.178706 |  9.750329 |  7.942663 | ⋯         | 9.217956  | 7.125195  | 8.928547  | 10.222949 | 11.165430 |  7.737488 |  8.659221 |  9.815217 | 10.515025 |  9.066363 | \n",
       "|  7.452748 | 6.794591  |  6.284152 | 11.588242 |  7.708659 |  7.984314 | 9.610407  |  9.345248 | 10.363567 |  9.680446 | ⋯         | 9.523282  | 8.915744  | 7.637325  | 11.984160 |  8.687178 |  9.340377 |  7.470117 |  6.688072 |  8.185364 |  7.914446 | \n",
       "| 10.099379 | 8.663095  |  9.696549 |  9.525820 |  9.121004 | 11.179189 | 8.491143  |  7.945668 |  8.572236 |  7.821948 | ⋯         | 6.397463  | 9.047139  | 8.012543  |  9.046531 |  7.749223 |  7.854213 |  9.953238 |  9.582053 | 11.729488 | 10.746724 | \n",
       "|  7.822116 | 9.207262  | 10.791697 |  8.788026 |  9.510115 |  7.457688 | 8.349871  |  9.498505 | 12.593290 |  9.928362 | ⋯         | 7.684475  | 9.213252  | 7.956641  |  8.298329 |  6.337637 |  5.880875 | 10.029232 |  8.943203 | 10.147852 |  8.876776 | \n",
       "|  7.559860 | 7.211397  |  9.946219 |  8.571802 | 10.977203 |  5.384408 | 7.821065  | 11.044525 | 10.161470 | 10.060353 | ⋯         | 8.320990  | 7.665498  | 7.286200  |  6.587294 |  9.764433 | 12.940667 |  9.867729 |  8.404407 |  9.529858 |  6.688796 | \n",
       "|  8.253048 | 8.187509  |  9.166707 |  9.400143 |  6.897901 |  9.807155 | 7.871724  |  9.752349 |  7.736833 |  8.677976 | ⋯         | 6.162928  | 8.226868  | 8.943327  | 10.220301 |  8.213657 | 11.644709 |  7.467402 | 10.259070 | 10.102217 | 10.413646 | \n",
       "\n",
       "\n"
      ],
      "text/plain": [
       "     [,1]      [,2]     [,3]      [,4]      [,5]      [,6]      [,7]    \n",
       "[1,] 10.028335 9.546444 10.515212  9.719587  8.141072  9.955483 6.337439\n",
       "[2,]  7.452748 6.794591  6.284152 11.588242  7.708659  7.984314 9.610407\n",
       "[3,] 10.099379 8.663095  9.696549  9.525820  9.121004 11.179189 8.491143\n",
       "[4,]  7.822116 9.207262 10.791697  8.788026  9.510115  7.457688 8.349871\n",
       "[5,]  7.559860 7.211397  9.946219  8.571802 10.977203  5.384408 7.821065\n",
       "[6,]  8.253048 8.187509  9.166707  9.400143  6.897901  9.807155 7.871724\n",
       "     [,8]      [,9]      [,10]     [,11] [,12]    [,13]    [,14]    [,15]    \n",
       "[1,] 13.178706  9.750329  7.942663 ⋯     9.217956 7.125195 8.928547 10.222949\n",
       "[2,]  9.345248 10.363567  9.680446 ⋯     9.523282 8.915744 7.637325 11.984160\n",
       "[3,]  7.945668  8.572236  7.821948 ⋯     6.397463 9.047139 8.012543  9.046531\n",
       "[4,]  9.498505 12.593290  9.928362 ⋯     7.684475 9.213252 7.956641  8.298329\n",
       "[5,] 11.044525 10.161470 10.060353 ⋯     8.320990 7.665498 7.286200  6.587294\n",
       "[6,]  9.752349  7.736833  8.677976 ⋯     6.162928 8.226868 8.943327 10.220301\n",
       "     [,16]     [,17]     [,18]     [,19]     [,20]     [,21]    \n",
       "[1,] 11.165430  7.737488  8.659221  9.815217 10.515025  9.066363\n",
       "[2,]  8.687178  9.340377  7.470117  6.688072  8.185364  7.914446\n",
       "[3,]  7.749223  7.854213  9.953238  9.582053 11.729488 10.746724\n",
       "[4,]  6.337637  5.880875 10.029232  8.943203 10.147852  8.876776\n",
       "[5,]  9.764433 12.940667  9.867729  8.404407  9.529858  6.688796\n",
       "[6,]  8.213657 11.644709  7.467402 10.259070 10.102217 10.413646"
      ]
     },
     "metadata": {},
     "output_type": "display_data"
    }
   ],
   "source": [
    "set.seed(20430)\n",
    "rows   = 24\n",
    "cols   = 100\n",
    "\n",
    "# sample from the normal distribution\n",
    "dat = rnorm(n*k, mean = 9, sd = 1.43)\n",
    "x   = matrix(data=dat, nrow=rows, ncol=cols)\n",
    "dim(x)\n",
    "head(x)"
   ]
  },
  {
   "cell_type": "markdown",
   "metadata": {},
   "source": [
    "#### (b) Now construct a 95% t-Confidence Interval for each of the 100 samples. Put the intervals in a matrix called ${\\tt intervals}$ with 100 rows and 2 columns. Use the ${\\tt head(intervals)}$ and ${\\tt dim(intervals)}$ to preview the matrix and show its dimensions. (*Hint:* Note that the command ${\\tt t.test(x)\\$ conf.int}$ extracts just the confidence interval from the t.test for any dataset $x$.)"
   ]
  },
  {
   "cell_type": "code",
   "execution_count": 59,
   "metadata": {},
   "outputs": [
    {
     "data": {
      "text/html": [
       "<table>\n",
       "<tbody>\n",
       "\t<tr><td>8.463397</td><td>8.371739</td></tr>\n",
       "\t<tr><td>9.298606</td><td>9.400025</td></tr>\n",
       "\t<tr><td>7.936146</td><td>7.890490</td></tr>\n",
       "\t<tr><td>9.127108</td><td>9.308780</td></tr>\n",
       "\t<tr><td>8.276937</td><td>8.882918</td></tr>\n",
       "\t<tr><td>9.617759</td><td>9.883715</td></tr>\n",
       "</tbody>\n",
       "</table>\n"
      ],
      "text/latex": [
       "\\begin{tabular}{ll}\n",
       "\t 8.463397 & 8.371739\\\\\n",
       "\t 9.298606 & 9.400025\\\\\n",
       "\t 7.936146 & 7.890490\\\\\n",
       "\t 9.127108 & 9.308780\\\\\n",
       "\t 8.276937 & 8.882918\\\\\n",
       "\t 9.617759 & 9.883715\\\\\n",
       "\\end{tabular}\n"
      ],
      "text/markdown": [
       "\n",
       "| 8.463397 | 8.371739 | \n",
       "| 9.298606 | 9.400025 | \n",
       "| 7.936146 | 7.890490 | \n",
       "| 9.127108 | 9.308780 | \n",
       "| 8.276937 | 8.882918 | \n",
       "| 9.617759 | 9.883715 | \n",
       "\n",
       "\n"
      ],
      "text/plain": [
       "     [,1]     [,2]    \n",
       "[1,] 8.463397 8.371739\n",
       "[2,] 9.298606 9.400025\n",
       "[3,] 7.936146 7.890490\n",
       "[4,] 9.127108 9.308780\n",
       "[5,] 8.276937 8.882918\n",
       "[6,] 9.617759 9.883715"
      ]
     },
     "metadata": {},
     "output_type": "display_data"
    },
    {
     "data": {
      "text/html": [
       "<ol class=list-inline>\n",
       "\t<li>100</li>\n",
       "\t<li>2</li>\n",
       "</ol>\n"
      ],
      "text/latex": [
       "\\begin{enumerate*}\n",
       "\\item 100\n",
       "\\item 2\n",
       "\\end{enumerate*}\n"
      ],
      "text/markdown": [
       "1. 100\n",
       "2. 2\n",
       "\n",
       "\n"
      ],
      "text/plain": [
       "[1] 100   2"
      ]
     },
     "metadata": {},
     "output_type": "display_data"
    }
   ],
   "source": [
    "# ?apply\n",
    "get.conf.int = function(x) t.test(x, conf.level = .95)$conf.int\n",
    "intervals = matrix(apply(x, 2, get.conf.int), nrow = 100, ncol = 2)\n",
    "head(intervals)\n",
    "dim(intervals)"
   ]
  },
  {
   "cell_type": "markdown",
   "metadata": {},
   "source": [
    "#### (c) Now count the number of confidence intervals that contain $\\mu=9$. (Hint: use logical indexing.)"
   ]
  },
  {
   "cell_type": "code",
   "execution_count": 60,
   "metadata": {},
   "outputs": [
    {
     "data": {
      "text/html": [
       "2"
      ],
      "text/latex": [
       "2"
      ],
      "text/markdown": [
       "2"
      ],
      "text/plain": [
       "[1] 2"
      ]
     },
     "metadata": {},
     "output_type": "display_data"
    }
   ],
   "source": [
    "sum(intervals[,1] <= 9 & intervals[,2] >= 9)"
   ]
  },
  {
   "cell_type": "markdown",
   "metadata": {},
   "source": [
    "#### (d) Interpret what a \"95% confidence interval\" for the population mean $\\mu$ actually \"means\" (no pun intended).\n"
   ]
  },
  {
   "cell_type": "markdown",
   "metadata": {},
   "source": [
    "**STUDENT ANSWER:** The confidence interval is telling us that in repeated sampling, 95% of the confidence intervals obtained from all samples will actually capture the true parameter being estimated, in this case, $\\mu$."
   ]
  }
 ],
 "metadata": {
  "kernelspec": {
   "display_name": "R",
   "language": "R",
   "name": "ir"
  },
  "language_info": {
   "codemirror_mode": "r",
   "file_extension": ".r",
   "mimetype": "text/x-r-source",
   "name": "R",
   "pygments_lexer": "r",
   "version": "3.5.1"
  }
 },
 "nbformat": 4,
 "nbformat_minor": 2
}
